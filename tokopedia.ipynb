{
 "cells": [
  {
   "cell_type": "code",
   "execution_count": 1,
   "metadata": {},
   "outputs": [],
   "source": [
    "import pandas as pd\n",
    "import matplotlib.pyplot as plt\n",
    "import seaborn as sns\n",
    "import re"
   ]
  },
  {
   "cell_type": "code",
   "execution_count": null,
   "metadata": {},
   "outputs": [],
   "source": [
    "# Membaca file CS\n",
    "data = pd.read_csv('tokopedia_sepatu2.csv')\n"
   ]
  },
  {
   "cell_type": "code",
   "execution_count": null,
   "metadata": {},
   "outputs": [],
   "source": [
    "data.shape"
   ]
  },
  {
   "cell_type": "code",
   "execution_count": null,
   "metadata": {},
   "outputs": [],
   "source": [
    "# data.head(20)"
   ]
  },
  {
   "cell_type": "code",
   "execution_count": null,
   "metadata": {},
   "outputs": [],
   "source": [
    "# menghilangkan null\n",
    "data = data.dropna()"
   ]
  },
  {
   "cell_type": "code",
   "execution_count": null,
   "metadata": {},
   "outputs": [],
   "source": [
    "data.shape"
   ]
  },
  {
   "cell_type": "code",
   "execution_count": null,
   "metadata": {},
   "outputs": [],
   "source": [
    "data.describe()"
   ]
  },
  {
   "cell_type": "code",
   "execution_count": null,
   "metadata": {},
   "outputs": [],
   "source": [
    "# data"
   ]
  },
  {
   "cell_type": "code",
   "execution_count": null,
   "metadata": {},
   "outputs": [],
   "source": [
    "data.info()"
   ]
  },
  {
   "cell_type": "code",
   "execution_count": null,
   "metadata": {},
   "outputs": [],
   "source": [
    "data = data.rename(columns={'labelGroups': 'sold'})"
   ]
  },
  {
   "cell_type": "code",
   "execution_count": null,
   "metadata": {},
   "outputs": [],
   "source": [
    "# # data['sold'].head(len(data))\n",
    "# for i in range(len(data)):\n",
    "#     print(data['sold'].iloc[i])"
   ]
  },
  {
   "cell_type": "code",
   "execution_count": null,
   "metadata": {},
   "outputs": [],
   "source": [
    "def extract_numeric_value(text):\n",
    "    # Mencocokkan pola angka menggunakan regular expression\n",
    "    match = re.search(r'(\\d+([,.]\\d+)?)(rb)?', text)\n",
    "    if match:\n",
    "        # Mengambil nilai yang cocok\n",
    "        numeric_value = match.group(1)\n",
    "        # Menghilangkan koma jika ada\n",
    "        numeric_value = numeric_value.replace(',', '')\n",
    "        # Mengonversi ke tipe data numerik\n",
    "        return float(numeric_value)\n",
    "    else:\n",
    "        return None\n",
    "\n",
    "# Menjalankan fungsi extract_numeric_value pada setiap nilai di kolom 'sold' dan menyimpan hasilnya di kolom baru 'sold_numeric'\n",
    "data['sold'] = data['sold'].apply(extract_numeric_value)\n",
    "\n",
    "# Menampilkan dataframe dengan kolom 'sold_numeric'\n",
    "print(data)"
   ]
  },
  {
   "cell_type": "code",
   "execution_count": null,
   "metadata": {},
   "outputs": [],
   "source": [
    "data"
   ]
  },
  {
   "cell_type": "code",
   "execution_count": null,
   "metadata": {},
   "outputs": [],
   "source": [
    "# data['sold'] = data['sold'].str.extract(r'(\\d+)rb').astype(int) * 1000\n",
    "\n",
    "# # Menampilkan kolom \"sold\"\n",
    "# print(data['sold'])\n",
    "\n",
    "# # Output:\n",
    "# # 0    5000\n",
    "# # 1  7900\n",
    "# # 2  11100\n",
    "# # ...\n",
    "\n",
    "# Assuming your data has a 'sold' column\n",
    "def normalize_sold_column(data):\n",
    "  \"\"\"\n",
    "  This function takes a DataFrame and normalizes the 'sold' column.\n",
    "\n",
    "  Args:\n",
    "      data: A Pandas DataFrame.\n",
    "\n",
    "  Returns:\n",
    "      A Pandas DataFrame with the 'sold' column normalized.\n",
    "  \"\"\"\n",
    "  # Extract digits followed by \"rb\" using regex, handle NaN with default of 0\n",
    "  data['sold'] = pd.to_numeric(data['sold'].str.extract(r'(\\d+)rb', expand=False), errors='coerce') * 1000\n",
    "\n",
    "  # Handle remaining non-numeric values (e.g., \"Terlaris\") by replacing with NaN\n",
    "  data['sold'].replace(to_replace=r\"[^\\d+rb]\", method='ffill', inplace=True)\n",
    "\n",
    "  return data\n",
    "\n",
    "# Apply the normalization function to your data\n",
    "data = normalize_sold_column(data.copy())  # Operate on a copy to avoid modifying original data\n",
    "\n",
    "# Print the normalized 'sold' column\n",
    "print(data['sold'])\n",
    "\n"
   ]
  },
  {
   "cell_type": "code",
   "execution_count": null,
   "metadata": {},
   "outputs": [],
   "source": [
    "# data['sold'].head(len(data))\n",
    "for i in range(len(data)):\n",
    "    print(data['sold'].iloc[i])"
   ]
  },
  {
   "cell_type": "code",
   "execution_count": null,
   "metadata": {},
   "outputs": [],
   "source": [
    "data"
   ]
  },
  {
   "cell_type": "code",
   "execution_count": null,
   "metadata": {},
   "outputs": [],
   "source": [
    "\n",
    "# # Fungsi untuk mengekstrak angka dan normalisasi\n",
    "# def extract_and_normalize(text):\n",
    "#     # Mengekstrak angka dari teks menggunakan ekspresi reguler\n",
    "#     match = re.search(r'(\\d+(?:,\\d+)?)rb', text)\n",
    "#     if match:\n",
    "#         # Mengambil angka dan menghilangkan koma jika ada\n",
    "#         value = match.group(1).replace(',', '')\n",
    "#         # Normalisasi menjadi integer\n",
    "#         return int(float(value) * 1000)  # dikali 1000 untuk mengubah rb menjadi ribu\n",
    "#     else:\n",
    "#         return None\n",
    "\n",
    "# # Menerapkan fungsi pada kolom 'sold'\n",
    "# data['sold'] = data['sold'].apply(extract_and_normalize)\n",
    "\n",
    "# # Menampilkan DataFrame setelah perubahan\n",
    "# print(data)"
   ]
  },
  {
   "cell_type": "code",
   "execution_count": null,
   "metadata": {},
   "outputs": [],
   "source": [
    "data['imageUrl']"
   ]
  },
  {
   "cell_type": "code",
   "execution_count": null,
   "metadata": {},
   "outputs": [],
   "source": [
    "# Membuat visualisasi data\n",
    "plt.figure(figsize=(10, 6))\n",
    "sns.countplot(y='categoryName', data=data, order=data['categoryName'].value_counts().index)\n",
    "plt.title('Jumlah Produk Berdasarkan Kategori')\n",
    "plt.xlabel('Jumlah Produk')\n",
    "plt.ylabel('Kategori')\n",
    "plt.show()"
   ]
  },
  {
   "cell_type": "code",
   "execution_count": null,
   "metadata": {},
   "outputs": [],
   "source": [
    "import matplotlib.pyplot as plt\n",
    "import seaborn as sns\n",
    "\n",
    "# Kelompokkan data berdasarkan kota penjual dan hitung jumlah produk untuk setiap kota\n",
    "produk_per_kota = data.groupby('shop.city').size().reset_index(name='Jumlah Produk')\n",
    "\n",
    "# Membuat visualisasi jumlah produk berdasarkan kota penjual\n",
    "plt.figure(figsize=(12, 6))\n",
    "sns.barplot(x='Jumlah Produk', y='shop.city', data=produk_per_kota.sort_values(by='Jumlah Produk', ascending=False))\n",
    "plt.title('Jumlah Produk Berdasarkan Lokasi Penjual')\n",
    "plt.xlabel('Jumlah Produk')\n",
    "plt.ylabel('Kota Penjual')\n",
    "plt.show()\n"
   ]
  },
  {
   "cell_type": "code",
   "execution_count": null,
   "metadata": {},
   "outputs": [],
   "source": [
    "# Kelompokkan data berdasarkan rating dan hitung jumlah produk untuk setiap rentang rating\n",
    "produk_per_rating = data.groupby(pd.cut(data['ratingAverage'], bins=range(0, 6))).size().reset_index(name='Jumlah Produk')\n",
    "\n",
    "# Membuat visualisasi jumlah produk berdasarkan rating\n",
    "plt.figure(figsize=(10, 6))\n",
    "sns.barplot(x='Jumlah Produk', y='ratingAverage', data=produk_per_rating)\n",
    "plt.title('Jumlah Produk Berdasarkan Rating')\n",
    "plt.xlabel('Jumlah Produk')\n",
    "plt.ylabel('Rating Average')\n",
    "plt.show()\n"
   ]
  },
  {
   "cell_type": "code",
   "execution_count": null,
   "metadata": {},
   "outputs": [],
   "source": [
    "# Kelompokkan data berdasarkan kategori produk dan hitung rata-rata rating untuk setiap kategori\n",
    "rating_per_kategori = data.groupby('categoryName')['ratingAverage'].mean().reset_index(name='Rata-rata Rating')\n",
    "\n",
    "# Membuat visualisasi rata-rata rating berdasarkan kategori produk\n",
    "plt.figure(figsize=(12, 6))\n",
    "sns.barplot(x='Rata-rata Rating', y='categoryName', data=rating_per_kategori.sort_values(by='Rata-rata Rating', ascending=False))\n",
    "plt.title('Rata-rata Rating Berdasarkan Kategori Produk')\n",
    "plt.xlabel('Rata-rata Rating')\n",
    "plt.ylabel('Kategori Produk')\n",
    "plt.show()"
   ]
  },
  {
   "cell_type": "code",
   "execution_count": null,
   "metadata": {},
   "outputs": [],
   "source": [
    "# Kelompokkan data berdasarkan toko dan hitung rata-rata rating untuk setiap toko\n",
    "rating_per_toko = data.groupby('shop.name')['ratingAverage'].mean().reset_index(name='Rata-rata Rating')\n",
    "\n",
    "# Membuat visualisasi rata-rata rating berdasarkan toko\n",
    "plt.figure(figsize=(12, 6))\n",
    "sns.barplot(x='Rata-rata Rating', y='shop.name', data=rating_per_toko.sort_values(by='Rata-rata Rating', ascending=False))\n",
    "plt.title('Rata-rata Rating Berdasarkan Toko')\n",
    "plt.xlabel('Rata-rata Rating')\n",
    "plt.ylabel('Toko')\n",
    "plt.show()"
   ]
  },
  {
   "cell_type": "code",
   "execution_count": null,
   "metadata": {},
   "outputs": [],
   "source": [
    "# Sorting the data by price\n",
    "sorted_data = data.sort_values(by='price')\n",
    "\n",
    "# Selecting the product with the lowest price\n",
    "lowest_price_product = sorted_data.iloc[0]\n",
    "\n",
    "# Selecting the product with the highest price\n",
    "highest_price_product = sorted_data.iloc[-1]\n",
    "\n",
    "# Creating a bar plot to display products based on their prices\n",
    "plt.figure(figsize=(10, 6))\n",
    "sns.barplot(x='price', y='name', data=sorted_data.head(10))  # Displaying top 10 products with lowest prices\n",
    "sns.barplot(x='price', y='name', data=sorted_data.tail(10))  # Displaying top 10 products with highest prices\n",
    "\n",
    "# Adding markers for the lowest and highest priced products\n",
    "plt.scatter(lowest_price_product['price'], lowest_price_product['name'], color='red', label='Lowest Price')\n",
    "plt.scatter(highest_price_product['price'], highest_price_product['name'], color='green', label='Highest Price')\n",
    "\n",
    "# Adding labels and title\n",
    "plt.title('Products Based on Lowest and Highest Prices')\n",
    "plt.xlabel('Price')\n",
    "plt.ylabel('Product Name')\n",
    "plt.legend()\n",
    "plt.grid(True)\n",
    "\n",
    "# Displaying the plot\n",
    "plt.show()"
   ]
  },
  {
   "cell_type": "code",
   "execution_count": null,
   "metadata": {},
   "outputs": [],
   "source": [
    "data"
   ]
  }
 ],
 "metadata": {
  "kernelspec": {
   "display_name": "Python 3 (ipykernel)",
   "language": "python",
   "name": "python3"
  },
  "language_info": {
   "codemirror_mode": {
    "name": "ipython",
    "version": 3
   },
   "file_extension": ".py",
   "mimetype": "text/x-python",
   "name": "python",
   "nbconvert_exporter": "python",
   "pygments_lexer": "ipython3",
   "version": "3.10.12"
  }
 },
 "nbformat": 4,
 "nbformat_minor": 4
}
