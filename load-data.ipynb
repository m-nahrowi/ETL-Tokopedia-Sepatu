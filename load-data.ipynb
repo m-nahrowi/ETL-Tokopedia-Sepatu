{
 "cells": [
  {
   "cell_type": "code",
   "execution_count": 1,
   "metadata": {},
   "outputs": [],
   "source": [
    "import pandas as pd # type: ignore"
   ]
  },
  {
   "cell_type": "code",
   "execution_count": 3,
   "metadata": {},
   "outputs": [],
   "source": [
    "df = pd.read_csv('penjualan_sepatu_1.csv')"
   ]
  },
  {
   "cell_type": "code",
   "execution_count": 2,
   "metadata": {},
   "outputs": [],
   "source": [
    "# df.describe()"
   ]
  },
  {
   "cell_type": "code",
   "execution_count": 5,
   "metadata": {},
   "outputs": [
    {
     "data": {
      "text/html": [
       "<div>\n",
       "<style scoped>\n",
       "    .dataframe tbody tr th:only-of-type {\n",
       "        vertical-align: middle;\n",
       "    }\n",
       "\n",
       "    .dataframe tbody tr th {\n",
       "        vertical-align: top;\n",
       "    }\n",
       "\n",
       "    .dataframe thead th {\n",
       "        text-align: right;\n",
       "    }\n",
       "</style>\n",
       "<table border=\"1\" class=\"dataframe\">\n",
       "  <thead>\n",
       "    <tr style=\"text-align: right;\">\n",
       "      <th></th>\n",
       "      <th>id</th>\n",
       "      <th>name</th>\n",
       "      <th>badges</th>\n",
       "      <th>categoryName</th>\n",
       "      <th>countReview</th>\n",
       "      <th>discountPercentage</th>\n",
       "      <th>sold</th>\n",
       "      <th>originalPrice</th>\n",
       "      <th>price</th>\n",
       "      <th>ratingAverage</th>\n",
       "      <th>shopShopId</th>\n",
       "      <th>shopName</th>\n",
       "      <th>shopCity</th>\n",
       "      <th>shopIsOfficial</th>\n",
       "      <th>shopIsPowerBadge</th>\n",
       "    </tr>\n",
       "  </thead>\n",
       "  <tbody>\n",
       "    <tr>\n",
       "      <th>0</th>\n",
       "      <td>11718663582</td>\n",
       "      <td>Aerostreet 37-44 Brooklyn Putih Putih Abu Muda...</td>\n",
       "      <td>Official Store</td>\n",
       "      <td>Fashion Pria</td>\n",
       "      <td>191</td>\n",
       "      <td>50</td>\n",
       "      <td>5000.0</td>\n",
       "      <td>359800.0</td>\n",
       "      <td>179900.0</td>\n",
       "      <td>4.8</td>\n",
       "      <td>6673471</td>\n",
       "      <td>Aerostreet</td>\n",
       "      <td>Kab. Klaten</td>\n",
       "      <td>True</td>\n",
       "      <td>True</td>\n",
       "    </tr>\n",
       "    <tr>\n",
       "      <th>1</th>\n",
       "      <td>7320840825</td>\n",
       "      <td>Sepatu Compass Velocity</td>\n",
       "      <td>Power Merchant Pro Badge</td>\n",
       "      <td>Fashion Pria</td>\n",
       "      <td>95</td>\n",
       "      <td>53</td>\n",
       "      <td>7900.0</td>\n",
       "      <td>1699000.0</td>\n",
       "      <td>798000.0</td>\n",
       "      <td>5.0</td>\n",
       "      <td>7098187</td>\n",
       "      <td>Tijoepass</td>\n",
       "      <td>Jakarta Selatan</td>\n",
       "      <td>False</td>\n",
       "      <td>True</td>\n",
       "    </tr>\n",
       "    <tr>\n",
       "      <th>2</th>\n",
       "      <td>1997117378</td>\n",
       "      <td>Sepatu Chef AP CHEF Hitam - Sepatu Dapur Anti ...</td>\n",
       "      <td>Power Merchant Pro Badge</td>\n",
       "      <td>Fashion Pria</td>\n",
       "      <td>387</td>\n",
       "      <td>0</td>\n",
       "      <td>2700.0</td>\n",
       "      <td>0.0</td>\n",
       "      <td>139800.0</td>\n",
       "      <td>4.9</td>\n",
       "      <td>533833</td>\n",
       "      <td>redshroom</td>\n",
       "      <td>Jakarta Barat</td>\n",
       "      <td>False</td>\n",
       "      <td>True</td>\n",
       "    </tr>\n",
       "    <tr>\n",
       "      <th>3</th>\n",
       "      <td>2005697120</td>\n",
       "      <td>Sepatu Boots AP MEDIC Putih - Sepatu APD Medis</td>\n",
       "      <td>Power Merchant Pro Badge</td>\n",
       "      <td>Fashion Pria</td>\n",
       "      <td>42</td>\n",
       "      <td>0</td>\n",
       "      <td>4300.0</td>\n",
       "      <td>0.0</td>\n",
       "      <td>215000.0</td>\n",
       "      <td>4.9</td>\n",
       "      <td>533833</td>\n",
       "      <td>redshroom</td>\n",
       "      <td>Jakarta Barat</td>\n",
       "      <td>False</td>\n",
       "      <td>True</td>\n",
       "    </tr>\n",
       "    <tr>\n",
       "      <th>4</th>\n",
       "      <td>7033293128</td>\n",
       "      <td>SEPATU SNEAKERS ORTUSEIGHT 100% ORIGINAL HARVA...</td>\n",
       "      <td>Official Store</td>\n",
       "      <td>Fashion Pria</td>\n",
       "      <td>165</td>\n",
       "      <td>15</td>\n",
       "      <td>11100.0</td>\n",
       "      <td>329000.0</td>\n",
       "      <td>279650.0</td>\n",
       "      <td>4.9</td>\n",
       "      <td>4232765</td>\n",
       "      <td>RANK Sports</td>\n",
       "      <td>Serang</td>\n",
       "      <td>True</td>\n",
       "      <td>True</td>\n",
       "    </tr>\n",
       "  </tbody>\n",
       "</table>\n",
       "</div>"
      ],
      "text/plain": [
       "            id                                               name  \\\n",
       "0  11718663582  Aerostreet 37-44 Brooklyn Putih Putih Abu Muda...   \n",
       "1   7320840825                            Sepatu Compass Velocity   \n",
       "2   1997117378  Sepatu Chef AP CHEF Hitam - Sepatu Dapur Anti ...   \n",
       "3   2005697120     Sepatu Boots AP MEDIC Putih - Sepatu APD Medis   \n",
       "4   7033293128  SEPATU SNEAKERS ORTUSEIGHT 100% ORIGINAL HARVA...   \n",
       "\n",
       "                     badges  categoryName  countReview  discountPercentage  \\\n",
       "0            Official Store  Fashion Pria          191                  50   \n",
       "1  Power Merchant Pro Badge  Fashion Pria           95                  53   \n",
       "2  Power Merchant Pro Badge  Fashion Pria          387                   0   \n",
       "3  Power Merchant Pro Badge  Fashion Pria           42                   0   \n",
       "4            Official Store  Fashion Pria          165                  15   \n",
       "\n",
       "      sold  originalPrice     price  ratingAverage  shopShopId     shopName  \\\n",
       "0   5000.0       359800.0  179900.0            4.8     6673471   Aerostreet   \n",
       "1   7900.0      1699000.0  798000.0            5.0     7098187    Tijoepass   \n",
       "2   2700.0            0.0  139800.0            4.9      533833    redshroom   \n",
       "3   4300.0            0.0  215000.0            4.9      533833    redshroom   \n",
       "4  11100.0       329000.0  279650.0            4.9     4232765  RANK Sports   \n",
       "\n",
       "          shopCity  shopIsOfficial  shopIsPowerBadge  \n",
       "0      Kab. Klaten            True              True  \n",
       "1  Jakarta Selatan           False              True  \n",
       "2    Jakarta Barat           False              True  \n",
       "3    Jakarta Barat           False              True  \n",
       "4           Serang            True              True  "
      ]
     },
     "execution_count": 5,
     "metadata": {},
     "output_type": "execute_result"
    }
   ],
   "source": [
    "df.head()"
   ]
  },
  {
   "cell_type": "code",
   "execution_count": 4,
   "metadata": {},
   "outputs": [
    {
     "data": {
      "text/plain": [
       "(4770, 15)"
      ]
     },
     "execution_count": 4,
     "metadata": {},
     "output_type": "execute_result"
    }
   ],
   "source": [
    "df.shape"
   ]
  },
  {
   "cell_type": "code",
   "execution_count": 6,
   "metadata": {},
   "outputs": [
    {
     "data": {
      "text/html": [
       "<div>\n",
       "<style scoped>\n",
       "    .dataframe tbody tr th:only-of-type {\n",
       "        vertical-align: middle;\n",
       "    }\n",
       "\n",
       "    .dataframe tbody tr th {\n",
       "        vertical-align: top;\n",
       "    }\n",
       "\n",
       "    .dataframe thead th {\n",
       "        text-align: right;\n",
       "    }\n",
       "</style>\n",
       "<table border=\"1\" class=\"dataframe\">\n",
       "  <thead>\n",
       "    <tr style=\"text-align: right;\">\n",
       "      <th></th>\n",
       "      <th>id</th>\n",
       "      <th>countReview</th>\n",
       "      <th>discountPercentage</th>\n",
       "      <th>sold</th>\n",
       "      <th>originalPrice</th>\n",
       "      <th>price</th>\n",
       "      <th>ratingAverage</th>\n",
       "      <th>shopShopId</th>\n",
       "    </tr>\n",
       "  </thead>\n",
       "  <tbody>\n",
       "    <tr>\n",
       "      <th>count</th>\n",
       "      <td>4.770000e+03</td>\n",
       "      <td>4770.000000</td>\n",
       "      <td>4770.000000</td>\n",
       "      <td>4770.000000</td>\n",
       "      <td>4.770000e+03</td>\n",
       "      <td>4.770000e+03</td>\n",
       "      <td>4770.000000</td>\n",
       "      <td>4.770000e+03</td>\n",
       "    </tr>\n",
       "    <tr>\n",
       "      <th>mean</th>\n",
       "      <td>7.275561e+09</td>\n",
       "      <td>77.572327</td>\n",
       "      <td>13.689099</td>\n",
       "      <td>19286.687631</td>\n",
       "      <td>2.134643e+05</td>\n",
       "      <td>3.749419e+05</td>\n",
       "      <td>3.686876</td>\n",
       "      <td>7.262517e+06</td>\n",
       "    </tr>\n",
       "    <tr>\n",
       "      <th>std</th>\n",
       "      <td>4.267359e+09</td>\n",
       "      <td>304.051747</td>\n",
       "      <td>23.546361</td>\n",
       "      <td>51796.624051</td>\n",
       "      <td>5.678486e+05</td>\n",
       "      <td>7.001490e+05</td>\n",
       "      <td>2.109150</td>\n",
       "      <td>5.061013e+06</td>\n",
       "    </tr>\n",
       "    <tr>\n",
       "      <th>min</th>\n",
       "      <td>1.928798e+07</td>\n",
       "      <td>0.000000</td>\n",
       "      <td>0.000000</td>\n",
       "      <td>0.000000</td>\n",
       "      <td>0.000000e+00</td>\n",
       "      <td>5.000000e+02</td>\n",
       "      <td>0.000000</td>\n",
       "      <td>2.412000e+03</td>\n",
       "    </tr>\n",
       "    <tr>\n",
       "      <th>25%</th>\n",
       "      <td>2.662548e+09</td>\n",
       "      <td>1.000000</td>\n",
       "      <td>0.000000</td>\n",
       "      <td>2100.000000</td>\n",
       "      <td>0.000000e+00</td>\n",
       "      <td>1.050000e+05</td>\n",
       "      <td>4.000000</td>\n",
       "      <td>2.530791e+06</td>\n",
       "    </tr>\n",
       "    <tr>\n",
       "      <th>50%</th>\n",
       "      <td>7.555987e+09</td>\n",
       "      <td>5.000000</td>\n",
       "      <td>0.000000</td>\n",
       "      <td>6400.000000</td>\n",
       "      <td>0.000000e+00</td>\n",
       "      <td>1.780000e+05</td>\n",
       "      <td>4.900000</td>\n",
       "      <td>6.673471e+06</td>\n",
       "    </tr>\n",
       "    <tr>\n",
       "      <th>75%</th>\n",
       "      <td>1.163588e+10</td>\n",
       "      <td>32.000000</td>\n",
       "      <td>20.000000</td>\n",
       "      <td>16575.000000</td>\n",
       "      <td>2.096250e+05</td>\n",
       "      <td>3.850000e+05</td>\n",
       "      <td>5.000000</td>\n",
       "      <td>1.155957e+07</td>\n",
       "    </tr>\n",
       "    <tr>\n",
       "      <th>max</th>\n",
       "      <td>1.297877e+10</td>\n",
       "      <td>8503.000000</td>\n",
       "      <td>99.000000</td>\n",
       "      <td>750000.000000</td>\n",
       "      <td>1.143000e+07</td>\n",
       "      <td>1.500000e+07</td>\n",
       "      <td>5.000000</td>\n",
       "      <td>1.719083e+07</td>\n",
       "    </tr>\n",
       "  </tbody>\n",
       "</table>\n",
       "</div>"
      ],
      "text/plain": [
       "                 id  countReview  discountPercentage           sold  \\\n",
       "count  4.770000e+03  4770.000000         4770.000000    4770.000000   \n",
       "mean   7.275561e+09    77.572327           13.689099   19286.687631   \n",
       "std    4.267359e+09   304.051747           23.546361   51796.624051   \n",
       "min    1.928798e+07     0.000000            0.000000       0.000000   \n",
       "25%    2.662548e+09     1.000000            0.000000    2100.000000   \n",
       "50%    7.555987e+09     5.000000            0.000000    6400.000000   \n",
       "75%    1.163588e+10    32.000000           20.000000   16575.000000   \n",
       "max    1.297877e+10  8503.000000           99.000000  750000.000000   \n",
       "\n",
       "       originalPrice         price  ratingAverage    shopShopId  \n",
       "count   4.770000e+03  4.770000e+03    4770.000000  4.770000e+03  \n",
       "mean    2.134643e+05  3.749419e+05       3.686876  7.262517e+06  \n",
       "std     5.678486e+05  7.001490e+05       2.109150  5.061013e+06  \n",
       "min     0.000000e+00  5.000000e+02       0.000000  2.412000e+03  \n",
       "25%     0.000000e+00  1.050000e+05       4.000000  2.530791e+06  \n",
       "50%     0.000000e+00  1.780000e+05       4.900000  6.673471e+06  \n",
       "75%     2.096250e+05  3.850000e+05       5.000000  1.155957e+07  \n",
       "max     1.143000e+07  1.500000e+07       5.000000  1.719083e+07  "
      ]
     },
     "execution_count": 6,
     "metadata": {},
     "output_type": "execute_result"
    }
   ],
   "source": [
    "df.describe()"
   ]
  },
  {
   "cell_type": "code",
   "execution_count": 13,
   "metadata": {},
   "outputs": [
    {
     "data": {
      "text/plain": [
       "(4770, 15)"
      ]
     },
     "execution_count": 13,
     "metadata": {},
     "output_type": "execute_result"
    }
   ],
   "source": [
    "df.shape"
   ]
  },
  {
   "cell_type": "code",
   "execution_count": 7,
   "metadata": {},
   "outputs": [
    {
     "data": {
      "text/plain": [
       "id                    0\n",
       "name                  0\n",
       "badges                0\n",
       "categoryName          0\n",
       "countReview           0\n",
       "discountPercentage    0\n",
       "sold                  0\n",
       "originalPrice         0\n",
       "price                 0\n",
       "ratingAverage         0\n",
       "shopShopId            0\n",
       "shopName              0\n",
       "shopCity              0\n",
       "shopIsOfficial        0\n",
       "shopIsPowerBadge      0\n",
       "dtype: int64"
      ]
     },
     "execution_count": 7,
     "metadata": {},
     "output_type": "execute_result"
    }
   ],
   "source": [
    "df.isnull().sum()"
   ]
  },
  {
   "cell_type": "code",
   "execution_count": 8,
   "metadata": {
    "scrolled": true
   },
   "outputs": [
    {
     "data": {
      "text/plain": [
       "['id',\n",
       " 'name',\n",
       " 'badges',\n",
       " 'categoryName',\n",
       " 'countReview',\n",
       " 'discountPercentage',\n",
       " 'sold',\n",
       " 'originalPrice',\n",
       " 'price',\n",
       " 'ratingAverage',\n",
       " 'shopShopId',\n",
       " 'shopName',\n",
       " 'shopCity',\n",
       " 'shopIsOfficial',\n",
       " 'shopIsPowerBadge']"
      ]
     },
     "execution_count": 8,
     "metadata": {},
     "output_type": "execute_result"
    }
   ],
   "source": [
    "list(df.columns)"
   ]
  },
  {
   "cell_type": "code",
   "execution_count": 9,
   "metadata": {},
   "outputs": [],
   "source": [
    "# rename kolom . \n",
    "# df.rename(columns={'shop.shopId': 'shopShopId', 'shop.name': 'shopName', 'shop.city': 'shopCity' , 'shop.isOfficial': 'shopIsOfficial', 'shop.isPowerBadge': 'shopIsPowerBadge'}, inplace=True)"
   ]
  },
  {
   "cell_type": "code",
   "execution_count": 10,
   "metadata": {},
   "outputs": [],
   "source": [
    "# df.to_csv('data_penjualan_sepatu_tokopedia.csv', index=False)"
   ]
  },
  {
   "cell_type": "code",
   "execution_count": 12,
   "metadata": {
    "scrolled": true
   },
   "outputs": [
    {
     "name": "stdout",
     "output_type": "stream",
     "text": [
      "Kategori Sepatu Terpopuler:\n",
      "categoryName\n",
      "Fashion Pria           1747\n",
      "Fashion Wanita         1255\n",
      "Fashion Anak & Bayi    1113\n",
      "Olahraga                653\n",
      "Dapur                     1\n",
      "Perlengkapan Pesta        1\n",
      "dtype: int64\n"
     ]
    }
   ],
   "source": [
    "# Hitung jumlah penjualan per kategori sepatu\n",
    "jumlah_penjualan_per_kategori = df.groupby(\"categoryName\").size()\n",
    "\n",
    "#  Urutkan kategori berdasarkan jumlah penjualan\n",
    "kategori_terpopuler = jumlah_penjualan_per_kategori.sort_values(ascending=False)\n",
    "# Tampilkan 5 kategori terpopuler\n",
    "print(\"Kategori Sepatu Terpopuler:\")\n",
    "print(kategori_terpopuler.head(10))"
   ]
  },
  {
   "cell_type": "code",
   "execution_count": 11,
   "metadata": {},
   "outputs": [],
   "source": [
    "# Hitung rata-rata penjualan sepatu dengan discount dan tanpa diskon\n",
    "rata_rata_penjualan_diskon = df[df['discountPercentage']> 0]['price'].mean()\n",
    "rata_rata_penjualan_tanpa_diskon = df[df['discountPercentage'] == 0]['price'].mean()"
   ]
  },
  {
   "cell_type": "code",
   "execution_count": 14,
   "metadata": {},
   "outputs": [],
   "source": [
    "# Hitung korelasi antara rating dan penjualan\n",
    "korelasi_rating_penjualan = df[\"ratingAverage\"].corr(df[\"sold\"])"
   ]
  },
  {
   "cell_type": "code",
   "execution_count": 15,
   "metadata": {},
   "outputs": [
    {
     "name": "stdout",
     "output_type": "stream",
     "text": [
      "Rata-rata Penjualan Sepatu dengan Diskon: Rp 335,369.72\n",
      "Rata-rata Penjualan Sepatu Tanpa Diskon: Rp 394,746.66\n",
      "Korelasi Rating dan Penjualan: 0.07750870916901591\n"
     ]
    }
   ],
   "source": [
    "# Tampilkan hasil analisis\n",
    "print(f\"Rata-rata Penjualan Sepatu dengan Diskon: Rp {rata_rata_penjualan_diskon:,.2f}\")\n",
    "print(f\"Rata-rata Penjualan Sepatu Tanpa Diskon: Rp {rata_rata_penjualan_tanpa_diskon:,.2f}\")\n",
    "print(\"Korelasi Rating dan Penjualan:\", korelasi_rating_penjualan)"
   ]
  },
  {
   "cell_type": "code",
   "execution_count": 16,
   "metadata": {},
   "outputs": [
    {
     "name": "stdout",
     "output_type": "stream",
     "text": [
      "Korelasi Discount dan Penjualan: 0.05659095709394247\n"
     ]
    }
   ],
   "source": [
    "# Menghitung korelasi antara discountPercentage dan jumlah penjualan\n",
    "korelasi_discount_penjualan = df[\"discountPercentage\"].corr(df[\"sold\"])\n",
    "print(\"Korelasi Discount dan Penjualan:\", korelasi_discount_penjualan)"
   ]
  },
  {
   "cell_type": "code",
   "execution_count": 17,
   "metadata": {},
   "outputs": [
    {
     "name": "stdout",
     "output_type": "stream",
     "text": [
      "Korelasi Lokasi Toko dan Penjualan: 0.010549873724862633\n"
     ]
    }
   ],
   "source": [
    "df[\"shopCity\"] = df[\"shopCity\"].astype(\"category\").cat.codes\n",
    "korelasi_lokasi_penjualan = df[\"shopCity\"].corr(df[\"sold\"])\n",
    "print(\"Korelasi Lokasi Toko dan Penjualan:\", korelasi_lokasi_penjualan)\n"
   ]
  },
  {
   "cell_type": "code",
   "execution_count": 20,
   "metadata": {},
   "outputs": [
    {
     "name": "stdout",
     "output_type": "stream",
     "text": [
      "Korelasi Official Store dan Penjualan: 0.09851319795989803\n"
     ]
    }
   ],
   "source": [
    "# Menghitung korelasi antara keberadaan official store (shopIsOfficial) dan jumlah penjualan\n",
    "korelasi_official_store_penjualan = df[\"shopIsOfficial\"].astype(int).corr(df[\"sold\"])\n",
    "print(\"Korelasi Official Store dan Penjualan:\", korelasi_official_store_penjualan)\n"
   ]
  },
  {
   "cell_type": "code",
   "execution_count": 19,
   "metadata": {},
   "outputs": [
    {
     "name": "stdout",
     "output_type": "stream",
     "text": [
      "Korelasi Harga dan Penjualan: 0.14537407441493713\n"
     ]
    }
   ],
   "source": [
    "# Menghitung korelasi antara harga dan jumlah penjualan\n",
    "korelasi_harga_penjualan = df[\"price\"].corr(df[\"sold\"])\n",
    "print(\"Korelasi Harga dan Penjualan:\", korelasi_harga_penjualan)\n"
   ]
  },
  {
   "cell_type": "code",
   "execution_count": 18,
   "metadata": {},
   "outputs": [
    {
     "data": {
      "text/plain": [
       "name\n",
       "Anti -Slip and Breathable Pria Sepatu Kuning Sepatu Hitam B41/42        3100.0\n",
       "Eagle Sepatu Sneakers Lifestyle Oregon - Lifestyle Sneakers Shoes      37600.0\n",
       "SEPATU SNEAKER PRIA IMPORT - KASUAL MEN‘S SPORT FASHION 2023“CZ012”        0.0\n",
       "SEPATU SNEAKER PRIA IMPORT - KASUAL MEN‘S SPORT FASHION 2023“CZ025”        0.0\n",
       "Sepatu ASICS Men Japan S Grey 1201A173.021                             48300.0\n",
       "Name: sold, dtype: float64"
      ]
     },
     "execution_count": 18,
     "metadata": {},
     "output_type": "execute_result"
    }
   ],
   "source": [
    "# Melakukan analisis frekuensi antara nama produk dan jumlah penjualan\n",
    "frequency_analysis = df.groupby('name')['sold'].sum()\n",
    "frequency_analysis.head()\n",
    "\n"
   ]
  },
  {
   "cell_type": "code",
   "execution_count": 21,
   "metadata": {},
   "outputs": [
    {
     "data": {
      "text/html": [
       "<div>\n",
       "<style scoped>\n",
       "    .dataframe tbody tr th:only-of-type {\n",
       "        vertical-align: middle;\n",
       "    }\n",
       "\n",
       "    .dataframe tbody tr th {\n",
       "        vertical-align: top;\n",
       "    }\n",
       "\n",
       "    .dataframe thead th {\n",
       "        text-align: right;\n",
       "    }\n",
       "</style>\n",
       "<table border=\"1\" class=\"dataframe\">\n",
       "  <thead>\n",
       "    <tr style=\"text-align: right;\">\n",
       "      <th></th>\n",
       "      <th>id</th>\n",
       "      <th>name</th>\n",
       "      <th>badges</th>\n",
       "      <th>categoryName</th>\n",
       "      <th>countReview</th>\n",
       "      <th>discountPercentage</th>\n",
       "      <th>sold</th>\n",
       "      <th>originalPrice</th>\n",
       "      <th>price</th>\n",
       "      <th>ratingAverage</th>\n",
       "      <th>shopShopId</th>\n",
       "      <th>shopName</th>\n",
       "      <th>shopCity</th>\n",
       "      <th>shopIsOfficial</th>\n",
       "      <th>shopIsPowerBadge</th>\n",
       "    </tr>\n",
       "  </thead>\n",
       "  <tbody>\n",
       "    <tr>\n",
       "      <th>4278</th>\n",
       "      <td>1052293623</td>\n",
       "      <td>sepatu sekolah anak perempuan dan laki-laki sl...</td>\n",
       "      <td>Power Merchant Pro Badge</td>\n",
       "      <td>Fashion Anak &amp; Bayi</td>\n",
       "      <td>471</td>\n",
       "      <td>0</td>\n",
       "      <td>750000.0</td>\n",
       "      <td>0.0</td>\n",
       "      <td>24900.0</td>\n",
       "      <td>4.8</td>\n",
       "      <td>2966214</td>\n",
       "      <td>lollita shoes</td>\n",
       "      <td>19</td>\n",
       "      <td>False</td>\n",
       "      <td>True</td>\n",
       "    </tr>\n",
       "    <tr>\n",
       "      <th>4447</th>\n",
       "      <td>1161863776</td>\n",
       "      <td>Kaos kaki bayi anak perempuan ada anti slip mo...</td>\n",
       "      <td>Power Merchant Pro Badge</td>\n",
       "      <td>Fashion Anak &amp; Bayi</td>\n",
       "      <td>217</td>\n",
       "      <td>2</td>\n",
       "      <td>750000.0</td>\n",
       "      <td>7992.0</td>\n",
       "      <td>7800.0</td>\n",
       "      <td>4.9</td>\n",
       "      <td>889676</td>\n",
       "      <td>BABYKU WHOLESALER</td>\n",
       "      <td>51</td>\n",
       "      <td>False</td>\n",
       "      <td>True</td>\n",
       "    </tr>\n",
       "    <tr>\n",
       "      <th>299</th>\n",
       "      <td>1935554575</td>\n",
       "      <td>SEPATU PDL TNI SEPATU PDL POLRI TACTICAL JATAH...</td>\n",
       "      <td>Power Merchant Pro Badge</td>\n",
       "      <td>Fashion Pria</td>\n",
       "      <td>166</td>\n",
       "      <td>0</td>\n",
       "      <td>500000.0</td>\n",
       "      <td>0.0</td>\n",
       "      <td>99500.0</td>\n",
       "      <td>4.5</td>\n",
       "      <td>7547370</td>\n",
       "      <td>D'bobs hanmade original</td>\n",
       "      <td>14</td>\n",
       "      <td>False</td>\n",
       "      <td>True</td>\n",
       "    </tr>\n",
       "    <tr>\n",
       "      <th>499</th>\n",
       "      <td>7733641946</td>\n",
       "      <td>Aerostreet 37-44 Massive Low Gum Navy Denim - ...</td>\n",
       "      <td>Official Store</td>\n",
       "      <td>Fashion Pria</td>\n",
       "      <td>308</td>\n",
       "      <td>56</td>\n",
       "      <td>500000.0</td>\n",
       "      <td>319800.0</td>\n",
       "      <td>142197.0</td>\n",
       "      <td>4.9</td>\n",
       "      <td>6673471</td>\n",
       "      <td>Aerostreet</td>\n",
       "      <td>30</td>\n",
       "      <td>True</td>\n",
       "      <td>True</td>\n",
       "    </tr>\n",
       "    <tr>\n",
       "      <th>515</th>\n",
       "      <td>1518294556</td>\n",
       "      <td>Sepatu Pantofel Karet Merk Sankyo SAF 1120 - H...</td>\n",
       "      <td>Power Merchant Pro Badge</td>\n",
       "      <td>Fashion Pria</td>\n",
       "      <td>229</td>\n",
       "      <td>0</td>\n",
       "      <td>500000.0</td>\n",
       "      <td>0.0</td>\n",
       "      <td>28000.0</td>\n",
       "      <td>4.9</td>\n",
       "      <td>2011641</td>\n",
       "      <td>Putra Utama Manunggal</td>\n",
       "      <td>3</td>\n",
       "      <td>False</td>\n",
       "      <td>True</td>\n",
       "    </tr>\n",
       "  </tbody>\n",
       "</table>\n",
       "</div>"
      ],
      "text/plain": [
       "              id                                               name  \\\n",
       "4278  1052293623  sepatu sekolah anak perempuan dan laki-laki sl...   \n",
       "4447  1161863776  Kaos kaki bayi anak perempuan ada anti slip mo...   \n",
       "299   1935554575  SEPATU PDL TNI SEPATU PDL POLRI TACTICAL JATAH...   \n",
       "499   7733641946  Aerostreet 37-44 Massive Low Gum Navy Denim - ...   \n",
       "515   1518294556  Sepatu Pantofel Karet Merk Sankyo SAF 1120 - H...   \n",
       "\n",
       "                        badges         categoryName  countReview  \\\n",
       "4278  Power Merchant Pro Badge  Fashion Anak & Bayi          471   \n",
       "4447  Power Merchant Pro Badge  Fashion Anak & Bayi          217   \n",
       "299   Power Merchant Pro Badge         Fashion Pria          166   \n",
       "499             Official Store         Fashion Pria          308   \n",
       "515   Power Merchant Pro Badge         Fashion Pria          229   \n",
       "\n",
       "      discountPercentage      sold  originalPrice     price  ratingAverage  \\\n",
       "4278                   0  750000.0            0.0   24900.0            4.8   \n",
       "4447                   2  750000.0         7992.0    7800.0            4.9   \n",
       "299                    0  500000.0            0.0   99500.0            4.5   \n",
       "499                   56  500000.0       319800.0  142197.0            4.9   \n",
       "515                    0  500000.0            0.0   28000.0            4.9   \n",
       "\n",
       "      shopShopId                 shopName  shopCity  shopIsOfficial  \\\n",
       "4278     2966214            lollita shoes        19           False   \n",
       "4447      889676        BABYKU WHOLESALER        51           False   \n",
       "299      7547370  D'bobs hanmade original        14           False   \n",
       "499      6673471               Aerostreet        30            True   \n",
       "515      2011641    Putra Utama Manunggal         3           False   \n",
       "\n",
       "      shopIsPowerBadge  \n",
       "4278              True  \n",
       "4447              True  \n",
       "299               True  \n",
       "499               True  \n",
       "515               True  "
      ]
     },
     "execution_count": 21,
     "metadata": {},
     "output_type": "execute_result"
    }
   ],
   "source": [
    "# Menampilkan 10 produk dengan jumlah penjualan tertinggi\n",
    "top_products = df.nlargest(10, 'sold')\n",
    "top_products.tail()"
   ]
  },
  {
   "cell_type": "code",
   "execution_count": 22,
   "metadata": {},
   "outputs": [
    {
     "data": {
      "image/png": "[encoded data removed]",
      "text/plain": [
       "<Figure size 1000x600 with 2 Axes>"
      ]
     },
     "metadata": {},
     "output_type": "display_data"
    },
    {
     "name": "stdout",
     "output_type": "stream",
     "text": [
      "Korelasi antara Penjualan dan Diskon: 0.05659095709394247\n",
      "Korelasi antara Penjualan dan Rating: 0.0775087091690159\n"
     ]
    }
   ],
   "source": [
    "import matplotlib.pyplot as plt\n",
    "\n",
    "# Menghitung korelasi antara penjualan dan diskon\n",
    "korelasi_penjualan_diskon = df[\"sold\"].corr(df[\"discountPercentage\"])\n",
    "\n",
    "# Menghitung korelasi antara penjualan dan rating\n",
    "korelasi_penjualan_rating = df[\"sold\"].corr(df[\"ratingAverage\"])\n",
    "\n",
    "# Membuat scatter plot untuk memvisualisasikan hubungan antara diskon, rating, dan penjualan\n",
    "plt.figure(figsize=(10, 6))\n",
    "plt.scatter(df[\"discountPercentage\"], df[\"ratingAverage\"], c=df[\"sold\"], cmap='viridis', alpha=0.5)\n",
    "plt.colorbar(label='Penjualan')\n",
    "plt.xlabel('Diskon (%)')\n",
    "plt.ylabel('Rating Rata-rata')\n",
    "plt.title('Hubungan Antara Diskon, Rating, dan Penjualan')\n",
    "plt.grid(True)\n",
    "plt.tight_layout()\n",
    "plt.show()\n",
    "\n",
    "print(\"Korelasi antara Penjualan dan Diskon:\", korelasi_penjualan_diskon)\n",
    "print(\"Korelasi antara Penjualan dan Rating:\", korelasi_penjualan_rating)\n"
   ]
  },
  {
   "cell_type": "code",
   "execution_count": 23,
   "metadata": {},
   "outputs": [
    {
     "name": "stdout",
     "output_type": "stream",
     "text": [
      "Defaulting to user installation because normal site-packages is not writeable\n",
      "Requirement already satisfied: pillow in /usr/lib/python3/dist-packages (9.0.1)\n"
     ]
    }
   ],
   "source": [
    "!pip3 install pillow"
   ]
  },
  {
   "cell_type": "code",
   "execution_count": null,
   "metadata": {},
   "outputs": [],
   "source": []
  }
 ],
 "metadata": {
  "kernelspec": {
   "display_name": "Python 3 (ipykernel)",
   "language": "python",
   "name": "python3"
  },
  "language_info": {
   "codemirror_mode": {
    "name": "ipython",
    "version": 3
   },
   "file_extension": ".py",
   "mimetype": "text/x-python",
   "name": "python",
   "nbconvert_exporter": "python",
   "pygments_lexer": "ipython3",
   "version": "3.10.12"
  }
 },
 "nbformat": 4,
 "nbformat_minor": 4
}
