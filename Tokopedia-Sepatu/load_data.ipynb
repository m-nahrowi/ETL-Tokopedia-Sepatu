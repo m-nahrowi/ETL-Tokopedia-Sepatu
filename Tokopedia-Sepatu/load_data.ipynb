{
 "cells": [
  {
   "cell_type": "code",
   "execution_count": 27,
   "metadata": {},
   "outputs": [
    {
     "name": "stdout",
     "output_type": "stream",
     "text": [
      "Defaulting to user installation because normal site-packages is not writeable\n",
      "Requirement already satisfied: pandas in /home/han/.local/lib/python3.11/site-packages (2.2.1)\n",
      "Requirement already satisfied: python-dateutil>=2.8.2 in /home/han/.local/lib/python3.11/site-packages (from pandas) (2.9.0.post0)\n",
      "Requirement already satisfied: pytz>=2020.1 in /home/han/.local/lib/python3.11/site-packages (from pandas) (2024.1)\n",
      "Requirement already satisfied: tzdata>=2022.7 in /home/han/.local/lib/python3.11/site-packages (from pandas) (2024.1)\n",
      "Requirement already satisfied: numpy<2,>=1.23.2 in /home/han/.local/lib/python3.11/site-packages (from pandas) (1.26.4)\n",
      "Requirement already satisfied: six>=1.5 in /usr/lib/python3/dist-packages (from python-dateutil>=2.8.2->pandas) (1.16.0)\n",
      "Defaulting to user installation because normal site-packages is not writeable\n",
      "Requirement already satisfied: numpy in /home/han/.local/lib/python3.11/site-packages (1.26.4)\n",
      "Defaulting to user installation because normal site-packages is not writeable\n",
      "Requirement already satisfied: seaborn in /home/han/.local/lib/python3.11/site-packages (0.13.2)\n",
      "Requirement already satisfied: matplotlib!=3.6.1,>=3.4 in /home/han/.local/lib/python3.11/site-packages (from seaborn) (3.8.3)\n",
      "Requirement already satisfied: pandas>=1.2 in /home/han/.local/lib/python3.11/site-packages (from seaborn) (2.2.1)\n",
      "Requirement already satisfied: numpy!=1.24.0,>=1.20 in /home/han/.local/lib/python3.11/site-packages (from seaborn) (1.26.4)\n",
      "Requirement already satisfied: pillow>=8 in /usr/lib/python3/dist-packages (from matplotlib!=3.6.1,>=3.4->seaborn) (9.0.1)\n",
      "Requirement already satisfied: python-dateutil>=2.7 in /home/han/.local/lib/python3.11/site-packages (from matplotlib!=3.6.1,>=3.4->seaborn) (2.9.0.post0)\n",
      "Requirement already satisfied: fonttools>=4.22.0 in /home/han/.local/lib/python3.11/site-packages (from matplotlib!=3.6.1,>=3.4->seaborn) (4.50.0)\n",
      "Requirement already satisfied: cycler>=0.10 in /home/han/.local/lib/python3.11/site-packages (from matplotlib!=3.6.1,>=3.4->seaborn) (0.12.1)\n",
      "Requirement already satisfied: pyparsing>=2.3.1 in /home/han/.local/lib/python3.11/site-packages (from matplotlib!=3.6.1,>=3.4->seaborn) (3.1.2)\n",
      "Requirement already satisfied: packaging>=20.0 in /home/han/.local/lib/python3.11/site-packages (from matplotlib!=3.6.1,>=3.4->seaborn) (24.0)\n",
      "Requirement already satisfied: kiwisolver>=1.3.1 in /home/han/.local/lib/python3.11/site-packages (from matplotlib!=3.6.1,>=3.4->seaborn) (1.4.5)\n",
      "Requirement already satisfied: contourpy>=1.0.1 in /home/han/.local/lib/python3.11/site-packages (from matplotlib!=3.6.1,>=3.4->seaborn) (1.2.0)\n",
      "Requirement already satisfied: tzdata>=2022.7 in /home/han/.local/lib/python3.11/site-packages (from pandas>=1.2->seaborn) (2024.1)\n",
      "Requirement already satisfied: pytz>=2020.1 in /home/han/.local/lib/python3.11/site-packages (from pandas>=1.2->seaborn) (2024.1)\n",
      "Requirement already satisfied: six>=1.5 in /usr/lib/python3/dist-packages (from python-dateutil>=2.7->matplotlib!=3.6.1,>=3.4->seaborn) (1.16.0)\n",
      "Defaulting to user installation because normal site-packages is not writeable\n",
      "Requirement already satisfied: matplotlib in /home/han/.local/lib/python3.11/site-packages (3.8.3)\n",
      "Requirement already satisfied: contourpy>=1.0.1 in /home/han/.local/lib/python3.11/site-packages (from matplotlib) (1.2.0)\n",
      "Requirement already satisfied: packaging>=20.0 in /home/han/.local/lib/python3.11/site-packages (from matplotlib) (24.0)\n",
      "Requirement already satisfied: cycler>=0.10 in /home/han/.local/lib/python3.11/site-packages (from matplotlib) (0.12.1)\n",
      "Requirement already satisfied: numpy<2,>=1.21 in /home/han/.local/lib/python3.11/site-packages (from matplotlib) (1.26.4)\n",
      "Requirement already satisfied: pyparsing>=2.3.1 in /home/han/.local/lib/python3.11/site-packages (from matplotlib) (3.1.2)\n",
      "Requirement already satisfied: pillow>=8 in /usr/lib/python3/dist-packages (from matplotlib) (9.0.1)\n",
      "Requirement already satisfied: python-dateutil>=2.7 in /home/han/.local/lib/python3.11/site-packages (from matplotlib) (2.9.0.post0)\n",
      "Requirement already satisfied: fonttools>=4.22.0 in /home/han/.local/lib/python3.11/site-packages (from matplotlib) (4.50.0)\n",
      "Requirement already satisfied: kiwisolver>=1.3.1 in /home/han/.local/lib/python3.11/site-packages (from matplotlib) (1.4.5)\n",
      "Requirement already satisfied: six>=1.5 in /usr/lib/python3/dist-packages (from python-dateutil>=2.7->matplotlib) (1.16.0)\n",
      "Defaulting to user installation because normal site-packages is not writeable\n",
      "Requirement already satisfied: pillow in /usr/lib/python3/dist-packages (9.0.1)\n"
     ]
    }
   ],
   "source": [
    "!pip install pandas\n",
    "!pip install numpy\n",
    "!pip install seaborn\n",
    "!pip install matplotlib\n",
    "!pip install pillow"
   ]
  },
  {
   "cell_type": "code",
   "execution_count": 28,
   "metadata": {
    "id": "2O4doM4obI3c"
   },
   "outputs": [],
   "source": [
    "import pandas as pd"
   ]
  },
  {
   "cell_type": "code",
   "execution_count": 29,
   "metadata": {
    "id": "cdMA9536bI3e"
   },
   "outputs": [],
   "source": [
    "df = pd.read_csv('penjualan_sepatu_1.csv')"
   ]
  },
  {
   "cell_type": "code",
   "execution_count": 30,
   "metadata": {
    "id": "akt8GiUvbI3e"
   },
   "outputs": [],
   "source": [
    "# df.describe()"
   ]
  },
  {
   "cell_type": "code",
   "execution_count": 31,
   "metadata": {
    "colab": {
     "base_uri": "https://localhost:8080/",
     "height": 538
    },
    "id": "rN44xfXqbI3e",
    "outputId": "05039189-4581-46ea-8730-720ee5dde9e8"
   },
   "outputs": [
    {
     "data": {
      "text/html": [
       "<div>\n",
       "<style scoped>\n",
       "    .dataframe tbody tr th:only-of-type {\n",
       "        vertical-align: middle;\n",
       "    }\n",
       "\n",
       "    .dataframe tbody tr th {\n",
       "        vertical-align: top;\n",
       "    }\n",
       "\n",
       "    .dataframe thead th {\n",
       "        text-align: right;\n",
       "    }\n",
       "</style>\n",
       "<table border=\"1\" class=\"dataframe\">\n",
       "  <thead>\n",
       "    <tr style=\"text-align: right;\">\n",
       "      <th></th>\n",
       "      <th>id</th>\n",
       "      <th>name</th>\n",
       "      <th>badges</th>\n",
       "      <th>categoryName</th>\n",
       "      <th>countReview</th>\n",
       "      <th>discountPercentage</th>\n",
       "      <th>sold</th>\n",
       "      <th>originalPrice</th>\n",
       "      <th>price</th>\n",
       "      <th>ratingAverage</th>\n",
       "      <th>shopShopId</th>\n",
       "      <th>shopName</th>\n",
       "      <th>shopCity</th>\n",
       "      <th>shopIsOfficial</th>\n",
       "      <th>shopIsPowerBadge</th>\n",
       "    </tr>\n",
       "  </thead>\n",
       "  <tbody>\n",
       "    <tr>\n",
       "      <th>0</th>\n",
       "      <td>11718663582</td>\n",
       "      <td>Aerostreet 37-44 Brooklyn Putih Putih Abu Muda...</td>\n",
       "      <td>Official Store</td>\n",
       "      <td>Fashion Pria</td>\n",
       "      <td>191</td>\n",
       "      <td>50</td>\n",
       "      <td>5000.0</td>\n",
       "      <td>359800.0</td>\n",
       "      <td>179900.0</td>\n",
       "      <td>4.8</td>\n",
       "      <td>6673471</td>\n",
       "      <td>Aerostreet</td>\n",
       "      <td>Kab. Klaten</td>\n",
       "      <td>True</td>\n",
       "      <td>True</td>\n",
       "    </tr>\n",
       "    <tr>\n",
       "      <th>1</th>\n",
       "      <td>7320840825</td>\n",
       "      <td>Sepatu Compass Velocity</td>\n",
       "      <td>Power Merchant Pro Badge</td>\n",
       "      <td>Fashion Pria</td>\n",
       "      <td>95</td>\n",
       "      <td>53</td>\n",
       "      <td>7900.0</td>\n",
       "      <td>1699000.0</td>\n",
       "      <td>798000.0</td>\n",
       "      <td>5.0</td>\n",
       "      <td>7098187</td>\n",
       "      <td>Tijoepass</td>\n",
       "      <td>Jakarta Selatan</td>\n",
       "      <td>False</td>\n",
       "      <td>True</td>\n",
       "    </tr>\n",
       "    <tr>\n",
       "      <th>2</th>\n",
       "      <td>1997117378</td>\n",
       "      <td>Sepatu Chef AP CHEF Hitam - Sepatu Dapur Anti ...</td>\n",
       "      <td>Power Merchant Pro Badge</td>\n",
       "      <td>Fashion Pria</td>\n",
       "      <td>387</td>\n",
       "      <td>0</td>\n",
       "      <td>2700.0</td>\n",
       "      <td>0.0</td>\n",
       "      <td>139800.0</td>\n",
       "      <td>4.9</td>\n",
       "      <td>533833</td>\n",
       "      <td>redshroom</td>\n",
       "      <td>Jakarta Barat</td>\n",
       "      <td>False</td>\n",
       "      <td>True</td>\n",
       "    </tr>\n",
       "    <tr>\n",
       "      <th>3</th>\n",
       "      <td>2005697120</td>\n",
       "      <td>Sepatu Boots AP MEDIC Putih - Sepatu APD Medis</td>\n",
       "      <td>Power Merchant Pro Badge</td>\n",
       "      <td>Fashion Pria</td>\n",
       "      <td>42</td>\n",
       "      <td>0</td>\n",
       "      <td>4300.0</td>\n",
       "      <td>0.0</td>\n",
       "      <td>215000.0</td>\n",
       "      <td>4.9</td>\n",
       "      <td>533833</td>\n",
       "      <td>redshroom</td>\n",
       "      <td>Jakarta Barat</td>\n",
       "      <td>False</td>\n",
       "      <td>True</td>\n",
       "    </tr>\n",
       "    <tr>\n",
       "      <th>4</th>\n",
       "      <td>7033293128</td>\n",
       "      <td>SEPATU SNEAKERS ORTUSEIGHT 100% ORIGINAL HARVA...</td>\n",
       "      <td>Official Store</td>\n",
       "      <td>Fashion Pria</td>\n",
       "      <td>165</td>\n",
       "      <td>15</td>\n",
       "      <td>11100.0</td>\n",
       "      <td>329000.0</td>\n",
       "      <td>279650.0</td>\n",
       "      <td>4.9</td>\n",
       "      <td>4232765</td>\n",
       "      <td>RANK Sports</td>\n",
       "      <td>Serang</td>\n",
       "      <td>True</td>\n",
       "      <td>True</td>\n",
       "    </tr>\n",
       "  </tbody>\n",
       "</table>\n",
       "</div>"
      ],
      "text/plain": [
       "            id                                               name  \\\n",
       "0  11718663582  Aerostreet 37-44 Brooklyn Putih Putih Abu Muda...   \n",
       "1   7320840825                            Sepatu Compass Velocity   \n",
       "2   1997117378  Sepatu Chef AP CHEF Hitam - Sepatu Dapur Anti ...   \n",
       "3   2005697120     Sepatu Boots AP MEDIC Putih - Sepatu APD Medis   \n",
       "4   7033293128  SEPATU SNEAKERS ORTUSEIGHT 100% ORIGINAL HARVA...   \n",
       "\n",
       "                     badges  categoryName  countReview  discountPercentage  \\\n",
       "0            Official Store  Fashion Pria          191                  50   \n",
       "1  Power Merchant Pro Badge  Fashion Pria           95                  53   \n",
       "2  Power Merchant Pro Badge  Fashion Pria          387                   0   \n",
       "3  Power Merchant Pro Badge  Fashion Pria           42                   0   \n",
       "4            Official Store  Fashion Pria          165                  15   \n",
       "\n",
       "      sold  originalPrice     price  ratingAverage  shopShopId     shopName  \\\n",
       "0   5000.0       359800.0  179900.0            4.8     6673471   Aerostreet   \n",
       "1   7900.0      1699000.0  798000.0            5.0     7098187    Tijoepass   \n",
       "2   2700.0            0.0  139800.0            4.9      533833    redshroom   \n",
       "3   4300.0            0.0  215000.0            4.9      533833    redshroom   \n",
       "4  11100.0       329000.0  279650.0            4.9     4232765  RANK Sports   \n",
       "\n",
       "          shopCity  shopIsOfficial  shopIsPowerBadge  \n",
       "0      Kab. Klaten            True              True  \n",
       "1  Jakarta Selatan           False              True  \n",
       "2    Jakarta Barat           False              True  \n",
       "3    Jakarta Barat           False              True  \n",
       "4           Serang            True              True  "
      ]
     },
     "execution_count": 31,
     "metadata": {},
     "output_type": "execute_result"
    }
   ],
   "source": [
    "df.head()"
   ]
  },
  {
   "cell_type": "code",
   "execution_count": 32,
   "metadata": {
    "colab": {
     "base_uri": "https://localhost:8080/"
    },
    "id": "9RT_mFblbI3f",
    "outputId": "a609beb2-90a8-4768-f9fc-483bbf932cb7"
   },
   "outputs": [
    {
     "data": {
      "text/plain": [
       "(4770, 15)"
      ]
     },
     "execution_count": 32,
     "metadata": {},
     "output_type": "execute_result"
    }
   ],
   "source": [
    "df.shape"
   ]
  },
  {
   "cell_type": "code",
   "execution_count": 33,
   "metadata": {
    "colab": {
     "base_uri": "https://localhost:8080/",
     "height": 300
    },
    "id": "T6giVwW2bI3f",
    "outputId": "6d87d104-1e31-43b4-f327-1e6a76725d25"
   },
   "outputs": [
    {
     "data": {
      "text/html": [
       "<div>\n",
       "<style scoped>\n",
       "    .dataframe tbody tr th:only-of-type {\n",
       "        vertical-align: middle;\n",
       "    }\n",
       "\n",
       "    .dataframe tbody tr th {\n",
       "        vertical-align: top;\n",
       "    }\n",
       "\n",
       "    .dataframe thead th {\n",
       "        text-align: right;\n",
       "    }\n",
       "</style>\n",
       "<table border=\"1\" class=\"dataframe\">\n",
       "  <thead>\n",
       "    <tr style=\"text-align: right;\">\n",
       "      <th></th>\n",
       "      <th>id</th>\n",
       "      <th>countReview</th>\n",
       "      <th>discountPercentage</th>\n",
       "      <th>sold</th>\n",
       "      <th>originalPrice</th>\n",
       "      <th>price</th>\n",
       "      <th>ratingAverage</th>\n",
       "      <th>shopShopId</th>\n",
       "    </tr>\n",
       "  </thead>\n",
       "  <tbody>\n",
       "    <tr>\n",
       "      <th>count</th>\n",
       "      <td>4.770000e+03</td>\n",
       "      <td>4770.000000</td>\n",
       "      <td>4770.000000</td>\n",
       "      <td>4770.000000</td>\n",
       "      <td>4.770000e+03</td>\n",
       "      <td>4.770000e+03</td>\n",
       "      <td>4770.000000</td>\n",
       "      <td>4.770000e+03</td>\n",
       "    </tr>\n",
       "    <tr>\n",
       "      <th>mean</th>\n",
       "      <td>7.275561e+09</td>\n",
       "      <td>77.572327</td>\n",
       "      <td>13.689099</td>\n",
       "      <td>19286.687631</td>\n",
       "      <td>2.134643e+05</td>\n",
       "      <td>3.749419e+05</td>\n",
       "      <td>3.686876</td>\n",
       "      <td>7.262517e+06</td>\n",
       "    </tr>\n",
       "    <tr>\n",
       "      <th>std</th>\n",
       "      <td>4.267359e+09</td>\n",
       "      <td>304.051747</td>\n",
       "      <td>23.546361</td>\n",
       "      <td>51796.624051</td>\n",
       "      <td>5.678486e+05</td>\n",
       "      <td>7.001490e+05</td>\n",
       "      <td>2.109150</td>\n",
       "      <td>5.061013e+06</td>\n",
       "    </tr>\n",
       "    <tr>\n",
       "      <th>min</th>\n",
       "      <td>1.928798e+07</td>\n",
       "      <td>0.000000</td>\n",
       "      <td>0.000000</td>\n",
       "      <td>0.000000</td>\n",
       "      <td>0.000000e+00</td>\n",
       "      <td>5.000000e+02</td>\n",
       "      <td>0.000000</td>\n",
       "      <td>2.412000e+03</td>\n",
       "    </tr>\n",
       "    <tr>\n",
       "      <th>25%</th>\n",
       "      <td>2.662548e+09</td>\n",
       "      <td>1.000000</td>\n",
       "      <td>0.000000</td>\n",
       "      <td>2100.000000</td>\n",
       "      <td>0.000000e+00</td>\n",
       "      <td>1.050000e+05</td>\n",
       "      <td>4.000000</td>\n",
       "      <td>2.530791e+06</td>\n",
       "    </tr>\n",
       "    <tr>\n",
       "      <th>50%</th>\n",
       "      <td>7.555987e+09</td>\n",
       "      <td>5.000000</td>\n",
       "      <td>0.000000</td>\n",
       "      <td>6400.000000</td>\n",
       "      <td>0.000000e+00</td>\n",
       "      <td>1.780000e+05</td>\n",
       "      <td>4.900000</td>\n",
       "      <td>6.673471e+06</td>\n",
       "    </tr>\n",
       "    <tr>\n",
       "      <th>75%</th>\n",
       "      <td>1.163588e+10</td>\n",
       "      <td>32.000000</td>\n",
       "      <td>20.000000</td>\n",
       "      <td>16575.000000</td>\n",
       "      <td>2.096250e+05</td>\n",
       "      <td>3.850000e+05</td>\n",
       "      <td>5.000000</td>\n",
       "      <td>1.155957e+07</td>\n",
       "    </tr>\n",
       "    <tr>\n",
       "      <th>max</th>\n",
       "      <td>1.297877e+10</td>\n",
       "      <td>8503.000000</td>\n",
       "      <td>99.000000</td>\n",
       "      <td>750000.000000</td>\n",
       "      <td>1.143000e+07</td>\n",
       "      <td>1.500000e+07</td>\n",
       "      <td>5.000000</td>\n",
       "      <td>1.719083e+07</td>\n",
       "    </tr>\n",
       "  </tbody>\n",
       "</table>\n",
       "</div>"
      ],
      "text/plain": [
       "                 id  countReview  discountPercentage           sold  \\\n",
       "count  4.770000e+03  4770.000000         4770.000000    4770.000000   \n",
       "mean   7.275561e+09    77.572327           13.689099   19286.687631   \n",
       "std    4.267359e+09   304.051747           23.546361   51796.624051   \n",
       "min    1.928798e+07     0.000000            0.000000       0.000000   \n",
       "25%    2.662548e+09     1.000000            0.000000    2100.000000   \n",
       "50%    7.555987e+09     5.000000            0.000000    6400.000000   \n",
       "75%    1.163588e+10    32.000000           20.000000   16575.000000   \n",
       "max    1.297877e+10  8503.000000           99.000000  750000.000000   \n",
       "\n",
       "       originalPrice         price  ratingAverage    shopShopId  \n",
       "count   4.770000e+03  4.770000e+03    4770.000000  4.770000e+03  \n",
       "mean    2.134643e+05  3.749419e+05       3.686876  7.262517e+06  \n",
       "std     5.678486e+05  7.001490e+05       2.109150  5.061013e+06  \n",
       "min     0.000000e+00  5.000000e+02       0.000000  2.412000e+03  \n",
       "25%     0.000000e+00  1.050000e+05       4.000000  2.530791e+06  \n",
       "50%     0.000000e+00  1.780000e+05       4.900000  6.673471e+06  \n",
       "75%     2.096250e+05  3.850000e+05       5.000000  1.155957e+07  \n",
       "max     1.143000e+07  1.500000e+07       5.000000  1.719083e+07  "
      ]
     },
     "execution_count": 33,
     "metadata": {},
     "output_type": "execute_result"
    }
   ],
   "source": [
    "df.describe()"
   ]
  },
  {
   "cell_type": "code",
   "execution_count": 34,
   "metadata": {
    "colab": {
     "base_uri": "https://localhost:8080/"
    },
    "id": "G7t9TkKgbI3g",
    "outputId": "5de52f0a-38ab-49bd-a004-e595ef984524"
   },
   "outputs": [
    {
     "data": {
      "text/plain": [
       "(4770, 15)"
      ]
     },
     "execution_count": 34,
     "metadata": {},
     "output_type": "execute_result"
    }
   ],
   "source": [
    "df.shape"
   ]
  },
  {
   "cell_type": "code",
   "execution_count": 35,
   "metadata": {
    "colab": {
     "base_uri": "https://localhost:8080/"
    },
    "id": "hDdpr_YkbI3g",
    "outputId": "68328c18-f6b3-4a93-fbb8-ba888b263e0a"
   },
   "outputs": [
    {
     "data": {
      "text/plain": [
       "id                    0\n",
       "name                  0\n",
       "badges                0\n",
       "categoryName          0\n",
       "countReview           0\n",
       "discountPercentage    0\n",
       "sold                  0\n",
       "originalPrice         0\n",
       "price                 0\n",
       "ratingAverage         0\n",
       "shopShopId            0\n",
       "shopName              0\n",
       "shopCity              0\n",
       "shopIsOfficial        0\n",
       "shopIsPowerBadge      0\n",
       "dtype: int64"
      ]
     },
     "execution_count": 35,
     "metadata": {},
     "output_type": "execute_result"
    }
   ],
   "source": [
    "df.isnull().sum()"
   ]
  },
  {
   "cell_type": "code",
   "execution_count": 36,
   "metadata": {
    "colab": {
     "base_uri": "https://localhost:8080/"
    },
    "id": "lWrR4Y5ubI3g",
    "outputId": "bc6ea349-09ab-4454-f06c-7689c2b9cc29",
    "scrolled": true
   },
   "outputs": [
    {
     "data": {
      "text/plain": [
       "['id',\n",
       " 'name',\n",
       " 'badges',\n",
       " 'categoryName',\n",
       " 'countReview',\n",
       " 'discountPercentage',\n",
       " 'sold',\n",
       " 'originalPrice',\n",
       " 'price',\n",
       " 'ratingAverage',\n",
       " 'shopShopId',\n",
       " 'shopName',\n",
       " 'shopCity',\n",
       " 'shopIsOfficial',\n",
       " 'shopIsPowerBadge']"
      ]
     },
     "execution_count": 36,
     "metadata": {},
     "output_type": "execute_result"
    }
   ],
   "source": [
    "list(df.columns)"
   ]
  },
  {
   "cell_type": "code",
   "execution_count": 37,
   "metadata": {
    "colab": {
     "base_uri": "https://localhost:8080/"
    },
    "id": "4X4Nnk4FbI3h",
    "outputId": "f047c315-9b37-4cf1-9873-32543e5f62cf",
    "scrolled": true
   },
   "outputs": [
    {
     "name": "stdout",
     "output_type": "stream",
     "text": [
      "Kategori Sepatu Terpopuler:\n",
      "categoryName\n",
      "Fashion Pria           1747\n",
      "Fashion Wanita         1255\n",
      "Fashion Anak & Bayi    1113\n",
      "Olahraga                653\n",
      "Dapur                     1\n",
      "Perlengkapan Pesta        1\n",
      "dtype: int64\n"
     ]
    }
   ],
   "source": [
    "# Hitung jumlah penjualan per kategori sepatu\n",
    "jumlah_penjualan_per_kategori = df.groupby(\"categoryName\").size()\n",
    "\n",
    "#  Urutkan kategori berdasarkan jumlah penjualan\n",
    "kategori_terpopuler = jumlah_penjualan_per_kategori.sort_values(ascending=False)\n",
    "# Tampilkan 5 kategori terpopuler\n",
    "print(\"Kategori Sepatu Terpopuler:\")\n",
    "print(kategori_terpopuler.head(10))"
   ]
  },
  {
   "cell_type": "code",
   "execution_count": 38,
   "metadata": {
    "id": "5qKkBdH_bI3i"
   },
   "outputs": [],
   "source": [
    "# Hitung rata-rata penjualan sepatu dengan discount dan tanpa diskon\n",
    "rata_rata_penjualan_diskon = df[df['discountPercentage']> 0]['price'].mean()\n",
    "rata_rata_penjualan_tanpa_diskon = df[df['discountPercentage'] == 0]['price'].mean()"
   ]
  },
  {
   "cell_type": "code",
   "execution_count": 39,
   "metadata": {
    "id": "1U4QDIPZbI3i"
   },
   "outputs": [],
   "source": [
    "# Hitung korelasi antara rating dan penjualan\n",
    "korelasi_rating_penjualan = df[\"ratingAverage\"].corr(df[\"sold\"])"
   ]
  },
  {
   "cell_type": "code",
   "execution_count": 40,
   "metadata": {
    "colab": {
     "base_uri": "https://localhost:8080/"
    },
    "id": "OcJvc4_6bI3i",
    "outputId": "4d28946e-7804-44b6-9097-b64583cb915a"
   },
   "outputs": [
    {
     "name": "stdout",
     "output_type": "stream",
     "text": [
      "Rata-rata Penjualan Sepatu dengan Diskon: Rp 335,369.72\n",
      "Rata-rata Penjualan Sepatu Tanpa Diskon: Rp 394,746.66\n",
      "Korelasi Rating dan Penjualan: 0.07750870916901591\n"
     ]
    }
   ],
   "source": [
    "# Tampilkan hasil analisis\n",
    "print(f\"Rata-rata Penjualan Sepatu dengan Diskon: Rp {rata_rata_penjualan_diskon:,.2f}\")\n",
    "print(f\"Rata-rata Penjualan Sepatu Tanpa Diskon: Rp {rata_rata_penjualan_tanpa_diskon:,.2f}\")\n",
    "print(\"Korelasi Rating dan Penjualan:\", korelasi_rating_penjualan)"
   ]
  },
  {
   "cell_type": "code",
   "execution_count": 41,
   "metadata": {
    "colab": {
     "base_uri": "https://localhost:8080/"
    },
    "id": "cxOOXVBRbI3i",
    "outputId": "09ce2cd0-40df-482b-c185-1a6dd431175a"
   },
   "outputs": [
    {
     "name": "stdout",
     "output_type": "stream",
     "text": [
      "Korelasi Discount dan Penjualan: 0.05659095709394247\n"
     ]
    }
   ],
   "source": [
    "# Menghitung korelasi antara discountPercentage dan jumlah penjualan\n",
    "korelasi_discount_penjualan = df[\"discountPercentage\"].corr(df[\"sold\"])\n",
    "print(\"Korelasi Discount dan Penjualan:\", korelasi_discount_penjualan)"
   ]
  },
  {
   "cell_type": "code",
   "execution_count": 42,
   "metadata": {
    "colab": {
     "base_uri": "https://localhost:8080/"
    },
    "id": "NCU4jflcbI3j",
    "outputId": "bbbf26c7-bcf0-4b69-8a95-2b072962acb0"
   },
   "outputs": [
    {
     "name": "stdout",
     "output_type": "stream",
     "text": [
      "Korelasi Lokasi Toko dan Penjualan: 0.010549873724862633\n"
     ]
    }
   ],
   "source": [
    "df[\"shopCity\"] = df[\"shopCity\"].astype(\"category\").cat.codes\n",
    "korelasi_lokasi_penjualan = df[\"shopCity\"].corr(df[\"sold\"])\n",
    "print(\"Korelasi Lokasi Toko dan Penjualan:\", korelasi_lokasi_penjualan)\n"
   ]
  },
  {
   "cell_type": "code",
   "execution_count": 43,
   "metadata": {
    "colab": {
     "base_uri": "https://localhost:8080/"
    },
    "id": "ukUFX226bI3j",
    "outputId": "6489443f-4ef1-4ae0-b54f-d2b288faec41"
   },
   "outputs": [
    {
     "name": "stdout",
     "output_type": "stream",
     "text": [
      "Korelasi Official Store dan Penjualan: 0.09851319795989803\n"
     ]
    }
   ],
   "source": [
    "# Menghitung korelasi antara keberadaan official store (shopIsOfficial) dan jumlah penjualan\n",
    "korelasi_official_store_penjualan = df[\"shopIsOfficial\"].astype(int).corr(df[\"sold\"])\n",
    "print(\"Korelasi Official Store dan Penjualan:\", korelasi_official_store_penjualan)\n"
   ]
  },
  {
   "cell_type": "code",
   "execution_count": 44,
   "metadata": {
    "colab": {
     "base_uri": "https://localhost:8080/"
    },
    "id": "dFzUMMEIbI3j",
    "outputId": "acd540c5-8785-4f63-a228-171d213732c0"
   },
   "outputs": [
    {
     "name": "stdout",
     "output_type": "stream",
     "text": [
      "Korelasi Harga dan Penjualan: 0.14537407441493713\n"
     ]
    }
   ],
   "source": [
    "# Menghitung korelasi antara harga dan jumlah penjualan\n",
    "korelasi_harga_penjualan = df[\"price\"].corr(df[\"sold\"])\n",
    "print(\"Korelasi Harga dan Penjualan:\", korelasi_harga_penjualan)\n"
   ]
  },
  {
   "cell_type": "code",
   "execution_count": 45,
   "metadata": {
    "colab": {
     "base_uri": "https://localhost:8080/"
    },
    "id": "JkydEDAlbI3k",
    "outputId": "82a3804b-873a-45df-9783-b8834f38462e"
   },
   "outputs": [
    {
     "data": {
      "text/plain": [
       "name\n",
       "Anti -Slip and Breathable Pria Sepatu Kuning Sepatu Hitam B41/42        3100.0\n",
       "Eagle Sepatu Sneakers Lifestyle Oregon - Lifestyle Sneakers Shoes      37600.0\n",
       "SEPATU SNEAKER PRIA IMPORT - KASUAL MEN‘S SPORT FASHION 2023“CZ012”        0.0\n",
       "SEPATU SNEAKER PRIA IMPORT - KASUAL MEN‘S SPORT FASHION 2023“CZ025”        0.0\n",
       "Sepatu ASICS Men Japan S Grey 1201A173.021                             48300.0\n",
       "Name: sold, dtype: float64"
      ]
     },
     "execution_count": 45,
     "metadata": {},
     "output_type": "execute_result"
    }
   ],
   "source": [
    "# Melakukan analisis frekuensi antara nama produk dan jumlah penjualan\n",
    "frequency_analysis = df.groupby('name')['sold'].sum()\n",
    "frequency_analysis.head()\n",
    "\n"
   ]
  },
  {
   "cell_type": "code",
   "execution_count": 46,
   "metadata": {
    "colab": {
     "base_uri": "https://localhost:8080/",
     "height": 660
    },
    "id": "BL5hVX1ybI3k",
    "outputId": "d860e93c-4ae4-4278-ee47-d279a22e682a"
   },
   "outputs": [
    {
     "data": {
      "text/html": [
       "<div>\n",
       "<style scoped>\n",
       "    .dataframe tbody tr th:only-of-type {\n",
       "        vertical-align: middle;\n",
       "    }\n",
       "\n",
       "    .dataframe tbody tr th {\n",
       "        vertical-align: top;\n",
       "    }\n",
       "\n",
       "    .dataframe thead th {\n",
       "        text-align: right;\n",
       "    }\n",
       "</style>\n",
       "<table border=\"1\" class=\"dataframe\">\n",
       "  <thead>\n",
       "    <tr style=\"text-align: right;\">\n",
       "      <th></th>\n",
       "      <th>id</th>\n",
       "      <th>name</th>\n",
       "      <th>badges</th>\n",
       "      <th>categoryName</th>\n",
       "      <th>countReview</th>\n",
       "      <th>discountPercentage</th>\n",
       "      <th>sold</th>\n",
       "      <th>originalPrice</th>\n",
       "      <th>price</th>\n",
       "      <th>ratingAverage</th>\n",
       "      <th>shopShopId</th>\n",
       "      <th>shopName</th>\n",
       "      <th>shopCity</th>\n",
       "      <th>shopIsOfficial</th>\n",
       "      <th>shopIsPowerBadge</th>\n",
       "    </tr>\n",
       "  </thead>\n",
       "  <tbody>\n",
       "    <tr>\n",
       "      <th>4278</th>\n",
       "      <td>1052293623</td>\n",
       "      <td>sepatu sekolah anak perempuan dan laki-laki sl...</td>\n",
       "      <td>Power Merchant Pro Badge</td>\n",
       "      <td>Fashion Anak &amp; Bayi</td>\n",
       "      <td>471</td>\n",
       "      <td>0</td>\n",
       "      <td>750000.0</td>\n",
       "      <td>0.0</td>\n",
       "      <td>24900.0</td>\n",
       "      <td>4.8</td>\n",
       "      <td>2966214</td>\n",
       "      <td>lollita shoes</td>\n",
       "      <td>19</td>\n",
       "      <td>False</td>\n",
       "      <td>True</td>\n",
       "    </tr>\n",
       "    <tr>\n",
       "      <th>4447</th>\n",
       "      <td>1161863776</td>\n",
       "      <td>Kaos kaki bayi anak perempuan ada anti slip mo...</td>\n",
       "      <td>Power Merchant Pro Badge</td>\n",
       "      <td>Fashion Anak &amp; Bayi</td>\n",
       "      <td>217</td>\n",
       "      <td>2</td>\n",
       "      <td>750000.0</td>\n",
       "      <td>7992.0</td>\n",
       "      <td>7800.0</td>\n",
       "      <td>4.9</td>\n",
       "      <td>889676</td>\n",
       "      <td>BABYKU WHOLESALER</td>\n",
       "      <td>51</td>\n",
       "      <td>False</td>\n",
       "      <td>True</td>\n",
       "    </tr>\n",
       "    <tr>\n",
       "      <th>299</th>\n",
       "      <td>1935554575</td>\n",
       "      <td>SEPATU PDL TNI SEPATU PDL POLRI TACTICAL JATAH...</td>\n",
       "      <td>Power Merchant Pro Badge</td>\n",
       "      <td>Fashion Pria</td>\n",
       "      <td>166</td>\n",
       "      <td>0</td>\n",
       "      <td>500000.0</td>\n",
       "      <td>0.0</td>\n",
       "      <td>99500.0</td>\n",
       "      <td>4.5</td>\n",
       "      <td>7547370</td>\n",
       "      <td>D'bobs hanmade original</td>\n",
       "      <td>14</td>\n",
       "      <td>False</td>\n",
       "      <td>True</td>\n",
       "    </tr>\n",
       "    <tr>\n",
       "      <th>499</th>\n",
       "      <td>7733641946</td>\n",
       "      <td>Aerostreet 37-44 Massive Low Gum Navy Denim - ...</td>\n",
       "      <td>Official Store</td>\n",
       "      <td>Fashion Pria</td>\n",
       "      <td>308</td>\n",
       "      <td>56</td>\n",
       "      <td>500000.0</td>\n",
       "      <td>319800.0</td>\n",
       "      <td>142197.0</td>\n",
       "      <td>4.9</td>\n",
       "      <td>6673471</td>\n",
       "      <td>Aerostreet</td>\n",
       "      <td>30</td>\n",
       "      <td>True</td>\n",
       "      <td>True</td>\n",
       "    </tr>\n",
       "    <tr>\n",
       "      <th>515</th>\n",
       "      <td>1518294556</td>\n",
       "      <td>Sepatu Pantofel Karet Merk Sankyo SAF 1120 - H...</td>\n",
       "      <td>Power Merchant Pro Badge</td>\n",
       "      <td>Fashion Pria</td>\n",
       "      <td>229</td>\n",
       "      <td>0</td>\n",
       "      <td>500000.0</td>\n",
       "      <td>0.0</td>\n",
       "      <td>28000.0</td>\n",
       "      <td>4.9</td>\n",
       "      <td>2011641</td>\n",
       "      <td>Putra Utama Manunggal</td>\n",
       "      <td>3</td>\n",
       "      <td>False</td>\n",
       "      <td>True</td>\n",
       "    </tr>\n",
       "  </tbody>\n",
       "</table>\n",
       "</div>"
      ],
      "text/plain": [
       "              id                                               name  \\\n",
       "4278  1052293623  sepatu sekolah anak perempuan dan laki-laki sl...   \n",
       "4447  1161863776  Kaos kaki bayi anak perempuan ada anti slip mo...   \n",
       "299   1935554575  SEPATU PDL TNI SEPATU PDL POLRI TACTICAL JATAH...   \n",
       "499   7733641946  Aerostreet 37-44 Massive Low Gum Navy Denim - ...   \n",
       "515   1518294556  Sepatu Pantofel Karet Merk Sankyo SAF 1120 - H...   \n",
       "\n",
       "                        badges         categoryName  countReview  \\\n",
       "4278  Power Merchant Pro Badge  Fashion Anak & Bayi          471   \n",
       "4447  Power Merchant Pro Badge  Fashion Anak & Bayi          217   \n",
       "299   Power Merchant Pro Badge         Fashion Pria          166   \n",
       "499             Official Store         Fashion Pria          308   \n",
       "515   Power Merchant Pro Badge         Fashion Pria          229   \n",
       "\n",
       "      discountPercentage      sold  originalPrice     price  ratingAverage  \\\n",
       "4278                   0  750000.0            0.0   24900.0            4.8   \n",
       "4447                   2  750000.0         7992.0    7800.0            4.9   \n",
       "299                    0  500000.0            0.0   99500.0            4.5   \n",
       "499                   56  500000.0       319800.0  142197.0            4.9   \n",
       "515                    0  500000.0            0.0   28000.0            4.9   \n",
       "\n",
       "      shopShopId                 shopName  shopCity  shopIsOfficial  \\\n",
       "4278     2966214            lollita shoes        19           False   \n",
       "4447      889676        BABYKU WHOLESALER        51           False   \n",
       "299      7547370  D'bobs hanmade original        14           False   \n",
       "499      6673471               Aerostreet        30            True   \n",
       "515      2011641    Putra Utama Manunggal         3           False   \n",
       "\n",
       "      shopIsPowerBadge  \n",
       "4278              True  \n",
       "4447              True  \n",
       "299               True  \n",
       "499               True  \n",
       "515               True  "
      ]
     },
     "execution_count": 46,
     "metadata": {},
     "output_type": "execute_result"
    }
   ],
   "source": [
    "# Menampilkan 10 produk dengan jumlah penjualan tertinggi\n",
    "top_products = df.nlargest(10, 'sold')\n",
    "top_products.tail()"
   ]
  },
  {
   "cell_type": "code",
   "execution_count": 47,
   "metadata": {
    "colab": {
     "base_uri": "https://localhost:8080/",
     "height": 643
    },
    "id": "H2qjDY7hbI3k",
    "outputId": "36a6460a-be50-41a7-b912-76f983c851d8"
   },
   "outputs": [
    {
     "ename": "ImportError",
     "evalue": "cannot import name '_imaging' from 'PIL' (/usr/lib/python3/dist-packages/PIL/__init__.py)",
     "output_type": "error",
     "traceback": [
      "\u001b[0;31m---------------------------------------------------------------------------\u001b[0m",
      "\u001b[0;31mImportError\u001b[0m                               Traceback (most recent call last)",
      "Cell \u001b[0;32mIn[47], line 1\u001b[0m\n\u001b[0;32m----> 1\u001b[0m \u001b[38;5;28;01mimport\u001b[39;00m \u001b[38;5;21;01mmatplotlib\u001b[39;00m\u001b[38;5;21;01m.\u001b[39;00m\u001b[38;5;21;01mpyplot\u001b[39;00m \u001b[38;5;28;01mas\u001b[39;00m \u001b[38;5;21;01mplt\u001b[39;00m\n\u001b[1;32m      3\u001b[0m \u001b[38;5;66;03m# Menghitung korelasi antara penjualan dan diskon\u001b[39;00m\n\u001b[1;32m      4\u001b[0m korelasi_penjualan_diskon \u001b[38;5;241m=\u001b[39m df[\u001b[38;5;124m\"\u001b[39m\u001b[38;5;124msold\u001b[39m\u001b[38;5;124m\"\u001b[39m]\u001b[38;5;241m.\u001b[39mcorr(df[\u001b[38;5;124m\"\u001b[39m\u001b[38;5;124mdiscountPercentage\u001b[39m\u001b[38;5;124m\"\u001b[39m])\n",
      "File \u001b[0;32m~/.local/lib/python3.11/site-packages/matplotlib/__init__.py:161\u001b[0m\n\u001b[1;32m    157\u001b[0m \u001b[38;5;28;01mfrom\u001b[39;00m \u001b[38;5;21;01mpackaging\u001b[39;00m\u001b[38;5;21;01m.\u001b[39;00m\u001b[38;5;21;01mversion\u001b[39;00m \u001b[38;5;28;01mimport\u001b[39;00m parse \u001b[38;5;28;01mas\u001b[39;00m parse_version\n\u001b[1;32m    159\u001b[0m \u001b[38;5;66;03m# cbook must import matplotlib only within function\u001b[39;00m\n\u001b[1;32m    160\u001b[0m \u001b[38;5;66;03m# definitions, so it is safe to import from it here.\u001b[39;00m\n\u001b[0;32m--> 161\u001b[0m \u001b[38;5;28;01mfrom\u001b[39;00m \u001b[38;5;21;01m.\u001b[39;00m \u001b[38;5;28;01mimport\u001b[39;00m _api, _version, cbook, _docstring, rcsetup\n\u001b[1;32m    162\u001b[0m \u001b[38;5;28;01mfrom\u001b[39;00m \u001b[38;5;21;01mmatplotlib\u001b[39;00m\u001b[38;5;21;01m.\u001b[39;00m\u001b[38;5;21;01mcbook\u001b[39;00m \u001b[38;5;28;01mimport\u001b[39;00m sanitize_sequence\n\u001b[1;32m    163\u001b[0m \u001b[38;5;28;01mfrom\u001b[39;00m \u001b[38;5;21;01mmatplotlib\u001b[39;00m\u001b[38;5;21;01m.\u001b[39;00m\u001b[38;5;21;01m_api\u001b[39;00m \u001b[38;5;28;01mimport\u001b[39;00m MatplotlibDeprecationWarning\n",
      "File \u001b[0;32m~/.local/lib/python3.11/site-packages/matplotlib/rcsetup.py:27\u001b[0m\n\u001b[1;32m     25\u001b[0m \u001b[38;5;28;01mfrom\u001b[39;00m \u001b[38;5;21;01mmatplotlib\u001b[39;00m \u001b[38;5;28;01mimport\u001b[39;00m _api, cbook\n\u001b[1;32m     26\u001b[0m \u001b[38;5;28;01mfrom\u001b[39;00m \u001b[38;5;21;01mmatplotlib\u001b[39;00m\u001b[38;5;21;01m.\u001b[39;00m\u001b[38;5;21;01mcbook\u001b[39;00m \u001b[38;5;28;01mimport\u001b[39;00m ls_mapper\n\u001b[0;32m---> 27\u001b[0m \u001b[38;5;28;01mfrom\u001b[39;00m \u001b[38;5;21;01mmatplotlib\u001b[39;00m\u001b[38;5;21;01m.\u001b[39;00m\u001b[38;5;21;01mcolors\u001b[39;00m \u001b[38;5;28;01mimport\u001b[39;00m Colormap, is_color_like\n\u001b[1;32m     28\u001b[0m \u001b[38;5;28;01mfrom\u001b[39;00m \u001b[38;5;21;01mmatplotlib\u001b[39;00m\u001b[38;5;21;01m.\u001b[39;00m\u001b[38;5;21;01m_fontconfig_pattern\u001b[39;00m \u001b[38;5;28;01mimport\u001b[39;00m parse_fontconfig_pattern\n\u001b[1;32m     29\u001b[0m \u001b[38;5;28;01mfrom\u001b[39;00m \u001b[38;5;21;01mmatplotlib\u001b[39;00m\u001b[38;5;21;01m.\u001b[39;00m\u001b[38;5;21;01m_enums\u001b[39;00m \u001b[38;5;28;01mimport\u001b[39;00m JoinStyle, CapStyle\n",
      "File \u001b[0;32m~/.local/lib/python3.11/site-packages/matplotlib/colors.py:52\u001b[0m\n\u001b[1;32m     49\u001b[0m \u001b[38;5;28;01mfrom\u001b[39;00m \u001b[38;5;21;01mnumbers\u001b[39;00m \u001b[38;5;28;01mimport\u001b[39;00m Real\n\u001b[1;32m     50\u001b[0m \u001b[38;5;28;01mimport\u001b[39;00m \u001b[38;5;21;01mre\u001b[39;00m\n\u001b[0;32m---> 52\u001b[0m \u001b[38;5;28;01mfrom\u001b[39;00m \u001b[38;5;21;01mPIL\u001b[39;00m \u001b[38;5;28;01mimport\u001b[39;00m Image\n\u001b[1;32m     53\u001b[0m \u001b[38;5;28;01mfrom\u001b[39;00m \u001b[38;5;21;01mPIL\u001b[39;00m\u001b[38;5;21;01m.\u001b[39;00m\u001b[38;5;21;01mPngImagePlugin\u001b[39;00m \u001b[38;5;28;01mimport\u001b[39;00m PngInfo\n\u001b[1;32m     55\u001b[0m \u001b[38;5;28;01mimport\u001b[39;00m \u001b[38;5;21;01mmatplotlib\u001b[39;00m \u001b[38;5;28;01mas\u001b[39;00m \u001b[38;5;21;01mmpl\u001b[39;00m\n",
      "File \u001b[0;32m/usr/lib/python3/dist-packages/PIL/Image.py:89\u001b[0m\n\u001b[1;32m     80\u001b[0m MAX_IMAGE_PIXELS \u001b[38;5;241m=\u001b[39m \u001b[38;5;28mint\u001b[39m(\u001b[38;5;241m1024\u001b[39m \u001b[38;5;241m*\u001b[39m \u001b[38;5;241m1024\u001b[39m \u001b[38;5;241m*\u001b[39m \u001b[38;5;241m1024\u001b[39m \u001b[38;5;241m/\u001b[39m\u001b[38;5;241m/\u001b[39m \u001b[38;5;241m4\u001b[39m \u001b[38;5;241m/\u001b[39m\u001b[38;5;241m/\u001b[39m \u001b[38;5;241m3\u001b[39m)\n\u001b[1;32m     83\u001b[0m \u001b[38;5;28;01mtry\u001b[39;00m:\n\u001b[1;32m     84\u001b[0m     \u001b[38;5;66;03m# If the _imaging C module is not present, Pillow will not load.\u001b[39;00m\n\u001b[1;32m     85\u001b[0m     \u001b[38;5;66;03m# Note that other modules should not refer to _imaging directly;\u001b[39;00m\n\u001b[1;32m     86\u001b[0m     \u001b[38;5;66;03m# import Image and use the Image.core variable instead.\u001b[39;00m\n\u001b[1;32m     87\u001b[0m     \u001b[38;5;66;03m# Also note that Image.core is not a publicly documented interface,\u001b[39;00m\n\u001b[1;32m     88\u001b[0m     \u001b[38;5;66;03m# and should be considered private and subject to change.\u001b[39;00m\n\u001b[0;32m---> 89\u001b[0m     \u001b[38;5;28;01mfrom\u001b[39;00m \u001b[38;5;21;01m.\u001b[39;00m \u001b[38;5;28;01mimport\u001b[39;00m _imaging \u001b[38;5;28;01mas\u001b[39;00m core\n\u001b[1;32m     91\u001b[0m     \u001b[38;5;28;01mif\u001b[39;00m __version__ \u001b[38;5;241m!=\u001b[39m \u001b[38;5;28mgetattr\u001b[39m(core, \u001b[38;5;124m\"\u001b[39m\u001b[38;5;124mPILLOW_VERSION\u001b[39m\u001b[38;5;124m\"\u001b[39m, \u001b[38;5;28;01mNone\u001b[39;00m):\n\u001b[1;32m     92\u001b[0m         \u001b[38;5;28;01mraise\u001b[39;00m \u001b[38;5;167;01mImportError\u001b[39;00m(\n\u001b[1;32m     93\u001b[0m             \u001b[38;5;124m\"\u001b[39m\u001b[38;5;124mThe _imaging extension was built for another version of Pillow or PIL:\u001b[39m\u001b[38;5;130;01m\\n\u001b[39;00m\u001b[38;5;124m\"\u001b[39m\n\u001b[1;32m     94\u001b[0m             \u001b[38;5;124mf\u001b[39m\u001b[38;5;124m\"\u001b[39m\u001b[38;5;124mCore version: \u001b[39m\u001b[38;5;132;01m{\u001b[39;00m\u001b[38;5;28mgetattr\u001b[39m(core, \u001b[38;5;124m'\u001b[39m\u001b[38;5;124mPILLOW_VERSION\u001b[39m\u001b[38;5;124m'\u001b[39m, \u001b[38;5;28;01mNone\u001b[39;00m)\u001b[38;5;132;01m}\u001b[39;00m\u001b[38;5;130;01m\\n\u001b[39;00m\u001b[38;5;124m\"\u001b[39m\n\u001b[1;32m     95\u001b[0m             \u001b[38;5;124mf\u001b[39m\u001b[38;5;124m\"\u001b[39m\u001b[38;5;124mPillow version: \u001b[39m\u001b[38;5;132;01m{\u001b[39;00m__version__\u001b[38;5;132;01m}\u001b[39;00m\u001b[38;5;124m\"\u001b[39m\n\u001b[1;32m     96\u001b[0m         )\n",
      "\u001b[0;31mImportError\u001b[0m: cannot import name '_imaging' from 'PIL' (/usr/lib/python3/dist-packages/PIL/__init__.py)"
     ]
    }
   ],
   "source": [
    "import matplotlib.pyplot as plt\n",
    "\n",
    "# Menghitung korelasi antara penjualan dan diskon\n",
    "korelasi_penjualan_diskon = df[\"sold\"].corr(df[\"discountPercentage\"])\n",
    "\n",
    "# Menghitung korelasi antara penjualan dan rating\n",
    "korelasi_penjualan_rating = df[\"sold\"].corr(df[\"ratingAverage\"])\n",
    "\n",
    "# Membuat scatter plot untuk memvisualisasikan hubungan antara diskon, rating, dan penjualan\n",
    "plt.figure(figsize=(10, 6))\n",
    "plt.scatter(df[\"discountPercentage\"], df[\"ratingAverage\"], c=df[\"sold\"], cmap='viridis', alpha=0.5)\n",
    "plt.colorbar(label='Penjualan')\n",
    "plt.xlabel('Diskon (%)')\n",
    "plt.ylabel('Rating Rata-rata')\n",
    "plt.title('Hubungan Antara Diskon, Rating, dan Penjualan')\n",
    "plt.grid(True)\n",
    "plt.tight_layout()\n",
    "plt.show()\n",
    "\n",
    "print(\"Korelasi antara Penjualan dan Diskon:\", korelasi_penjualan_diskon)\n",
    "print(\"Korelasi antara Penjualan dan Rating:\", korelasi_penjualan_rating)\n"
   ]
  },
  {
   "cell_type": "code",
   "execution_count": null,
   "metadata": {
    "colab": {
     "base_uri": "https://localhost:8080/"
    },
    "id": "vT8uR4rFbI3l",
    "outputId": "3633ef99-4e0d-42ed-b18e-e64e01ee729f"
   },
   "outputs": [],
   "source": [
    "# Menghitung korelasi antara penjualan, rating, harga, dan diskon\n",
    "korelasi_4 = df[['sold', 'ratingAverage', 'price', 'discountPercentage']].corr()\n",
    "\n",
    "print(\"Korelasi antara Penjualan, Rating, Harga, dan Diskon:\")\n",
    "print(korelasi_4)\n"
   ]
  },
  {
   "cell_type": "code",
   "execution_count": null,
   "metadata": {
    "colab": {
     "base_uri": "https://localhost:8080/",
     "height": 161
    },
    "id": "6RIGzzF2cBkk",
    "outputId": "04dea853-ca92-40f6-e4a3-d837bc90d1a6"
   },
   "outputs": [],
   "source": [
    "# Menghitung korelasi antara penjualan, rating, harga, dan diskon\n",
    "korelasi_3 = df[['sold', 'ratingAverage', 'price']].corr()\n",
    "\n",
    "print(\"Korelasi antara Penjualan, Rating, Harga, dan Diskon:\")\n",
    "korelasi_3\n"
   ]
  },
  {
   "cell_type": "code",
   "execution_count": null,
   "metadata": {
    "id": "KorexdVSeF9I"
   },
   "outputs": [],
   "source": [
    "import matplotlib.pyplot as plt\n",
    "import seaborn as sns"
   ]
  },
  {
   "cell_type": "code",
   "execution_count": null,
   "metadata": {
    "colab": {
     "base_uri": "https://localhost:8080/",
     "height": 641
    },
    "id": "XIMFLdY2eeec",
    "outputId": "66163595-a0a4-4cf2-c19f-6cb0ba1c51e5"
   },
   "outputs": [],
   "source": [
    "# Histogram untuk variabel numerik (misalnya: harga)\n",
    "plt.figure(figsize=(10, 7))\n",
    "sns.histplot(df['price'], bins=20, kde=True)\n",
    "plt.title('Distribusi Harga Produk')\n",
    "plt.xlabel('Harga')\n",
    "plt.ylabel('Frekuensi')\n",
    "plt.show()"
   ]
  },
  {
   "cell_type": "code",
   "execution_count": null,
   "metadata": {
    "colab": {
     "base_uri": "https://localhost:8080/",
     "height": 564
    },
    "id": "XjH5TnekejhM",
    "outputId": "2bc11e6c-1ab2-44a6-92fd-8382c3619400"
   },
   "outputs": [],
   "source": [
    "# Box plot untuk variabel numerik (misalnya: jumlah penjualan)\n",
    "plt.figure(figsize=(10, 6))\n",
    "sns.boxplot(x='sold', data=df)\n",
    "plt.title('Sebaran Jumlah Penjualan')\n",
    "plt.xlabel('Jumlah Penjualan')\n",
    "plt.show()\n",
    "\n"
   ]
  },
  {
   "cell_type": "code",
   "execution_count": null,
   "metadata": {
    "colab": {
     "base_uri": "https://localhost:8080/",
     "height": 564
    },
    "id": "-79zzxqGel-d",
    "outputId": "5175dd0e-de1c-4982-f28f-b0dcdd6f0658"
   },
   "outputs": [],
   "source": [
    "# Scatter plot untuk harga vs. jumlah penjualan\n",
    "plt.figure(figsize=(10, 6))\n",
    "sns.scatterplot(x='price', y='sold', data=df, color='orange')\n",
    "plt.title('Hubungan antara Harga dan Jumlah Penjualan')\n",
    "plt.xlabel('Harga')\n",
    "plt.ylabel('Jumlah Penjualan')\n",
    "plt.show()\n",
    "\n",
    "\n"
   ]
  },
  {
   "cell_type": "code",
   "execution_count": null,
   "metadata": {
    "colab": {
     "base_uri": "https://localhost:8080/",
     "height": 675
    },
    "id": "pyXtA_hJepMx",
    "outputId": "e17baa5b-0e37-4980-b2df-42d0f25034fa"
   },
   "outputs": [],
   "source": [
    "# Pie chart untuk kategori produk\n",
    "plt.figure(figsize=(8, 8))\n",
    "df['categoryName'].value_counts().plot(kind='pie', autopct='%1.1f%%')\n",
    "plt.title('Proporsi Kategori Produk')\n",
    "plt.ylabel('')\n",
    "plt.show()\n",
    "\n"
   ]
  },
  {
   "cell_type": "code",
   "execution_count": null,
   "metadata": {
    "colab": {
     "base_uri": "https://localhost:8080/",
     "height": 724
    },
    "id": "CNThwVXieq20",
    "outputId": "c28214f7-dbae-450c-d5d7-805341bd17cb"
   },
   "outputs": [],
   "source": [
    "# Heatmap untuk matriks korelasi\n",
    "plt.figure(figsize=(8, 6))\n",
    "sns.heatmap(df.corr(), annot=True, cmap='coolwarm', fmt=\".2f\")\n",
    "plt.title('Heatmap Korelasi')\n",
    "plt.show()"
   ]
  },
  {
   "cell_type": "code",
   "execution_count": null,
   "metadata": {
    "colab": {
     "base_uri": "https://localhost:8080/",
     "height": 472
    },
    "id": "iqwu5jxkggW4",
    "outputId": "475ad675-127d-4fb0-b3eb-a80b044b2ec4"
   },
   "outputs": [],
   "source": [
    "# Histogram Jumlah Review: Histogram dapat memberikan gambaran tentang distribusi jumlah review produk.\n",
    "\n",
    "plt.hist(df['countReview'], bins=20, color='skyblue', edgecolor='black')\n",
    "plt.xlabel('Jumlah Review')\n",
    "plt.ylabel('Frekuensi')\n",
    "plt.title('Distribusi Jumlah Review Produk')\n",
    "plt.show()\n"
   ]
  },
  {
   "cell_type": "code",
   "execution_count": null,
   "metadata": {
    "colab": {
     "base_uri": "https://localhost:8080/",
     "height": 568
    },
    "id": "1M4oOL4SguJu",
    "outputId": "f198c9c9-1086-4c11-9a35-8405cd8f4d5d"
   },
   "outputs": [],
   "source": [
    "# Bar Plot Penjualan Berdasarkan Kota: Bar plot dapat menampilkan jumlah penjualan berdasarkan kota toko.\n",
    "plt.figure(figsize=(10, 6))\n",
    "df.groupby('shopCity')['sold'].sum().sort_values(ascending=False).plot(kind='bar', color='lightgreen')\n",
    "plt.xlabel('Kota')\n",
    "plt.ylabel('Jumlah Terjual')\n",
    "plt.title('Jumlah Penjualan Berdasarkan Kota')\n",
    "plt.show()\n"
   ]
  },
  {
   "cell_type": "code",
   "execution_count": null,
   "metadata": {
    "colab": {
     "base_uri": "https://localhost:8080/",
     "height": 660
    },
    "id": "bWiqKSe7hWiq",
    "outputId": "c07360ee-25c3-4014-d091-9ce5532f914f"
   },
   "outputs": [],
   "source": [
    "# Box Plot Diskon Berdasarkan Kategori: Box plot dapat menunjukkan distribusi diskon dalam setiap kategori produk.\n",
    "plt.figure(figsize=(10, 6))\n",
    "sns.boxplot(x='categoryName', y='discountPercentage', data=df)\n",
    "plt.xlabel('Kategori')\n",
    "plt.ylabel('Diskon (%)')\n",
    "plt.title('Distribusi Diskon Berdasarkan Kategori')\n",
    "plt.xticks(rotation=45)\n",
    "plt.show()\n"
   ]
  },
  {
   "cell_type": "code",
   "execution_count": null,
   "metadata": {
    "colab": {
     "base_uri": "https://localhost:8080/",
     "height": 575
    },
    "id": "NzC0PiO4hs04",
    "outputId": "c51a8375-47d5-42be-c625-12c1dd0b258e"
   },
   "outputs": [],
   "source": [
    "# Heatmap Korelasi: Heatmap dapat digunakan untuk menunjukkan korelasi antara variabel numerik dalam dataset.\n",
    "corr = df[['countReview', 'discountPercentage', 'sold', 'originalPrice', 'price', 'ratingAverage']].corr()\n",
    "sns.heatmap(corr, annot=True, cmap='coolwarm', fmt=\".2f\")\n",
    "plt.title('Heatmap Korelasi')\n",
    "plt.show()\n"
   ]
  }
 ],
 "metadata": {
  "colab": {
   "provenance": []
  },
  "kernelspec": {
   "display_name": "Python 3 (ipykernel)",
   "language": "python",
   "name": "python3"
  },
  "language_info": {
   "codemirror_mode": {
    "name": "ipython",
    "version": 3
   },
   "file_extension": ".py",
   "mimetype": "text/x-python",
   "name": "python",
   "nbconvert_exporter": "python",
   "pygments_lexer": "ipython3",
   "version": "3.11.8"
  }
 },
 "nbformat": 4,
 "nbformat_minor": 4
}
