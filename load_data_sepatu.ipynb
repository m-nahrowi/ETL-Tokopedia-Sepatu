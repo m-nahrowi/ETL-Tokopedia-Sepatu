{
 "cells": [
  {
   "cell_type": "code",
   "execution_count": 1,
   "metadata": {},
   "outputs": [],
   "source": [
    "import pandas as pd"
   ]
  },
  {
   "cell_type": "code",
   "execution_count": 2,
   "metadata": {},
   "outputs": [],
   "source": [
    "df = pd.read_csv('data_penjualan_sepatu_tokopedia.csv')"
   ]
  },
  {
   "cell_type": "code",
   "execution_count": 3,
   "metadata": {},
   "outputs": [],
   "source": [
    "# df.describe()"
   ]
  },
  {
   "cell_type": "code",
   "execution_count": 4,
   "metadata": {},
   "outputs": [
    {
     "data": {
      "text/html": [
       "<div>\n",
       "<style scoped>\n",
       "    .dataframe tbody tr th:only-of-type {\n",
       "        vertical-align: middle;\n",
       "    }\n",
       "\n",
       "    .dataframe tbody tr th {\n",
       "        vertical-align: top;\n",
       "    }\n",
       "\n",
       "    .dataframe thead th {\n",
       "        text-align: right;\n",
       "    }\n",
       "</style>\n",
       "<table border=\"1\" class=\"dataframe\">\n",
       "  <thead>\n",
       "    <tr style=\"text-align: right;\">\n",
       "      <th></th>\n",
       "      <th>id</th>\n",
       "      <th>name</th>\n",
       "      <th>badges</th>\n",
       "      <th>categoryName</th>\n",
       "      <th>countReview</th>\n",
       "      <th>discountPercentage</th>\n",
       "      <th>sold</th>\n",
       "      <th>originalPrice</th>\n",
       "      <th>price</th>\n",
       "      <th>ratingAverage</th>\n",
       "      <th>shopShopId</th>\n",
       "      <th>shopName</th>\n",
       "      <th>shopCity</th>\n",
       "      <th>shopIsOfficial</th>\n",
       "      <th>shopIsPowerBadge</th>\n",
       "    </tr>\n",
       "  </thead>\n",
       "  <tbody>\n",
       "    <tr>\n",
       "      <th>0</th>\n",
       "      <td>11718663582</td>\n",
       "      <td>Aerostreet 37-44 Brooklyn Putih Putih Abu Muda...</td>\n",
       "      <td>Official Store</td>\n",
       "      <td>Fashion Pria</td>\n",
       "      <td>191</td>\n",
       "      <td>50</td>\n",
       "      <td>5000.0</td>\n",
       "      <td>359800.0</td>\n",
       "      <td>179900.0</td>\n",
       "      <td>4.8</td>\n",
       "      <td>6673471</td>\n",
       "      <td>Aerostreet</td>\n",
       "      <td>Kab. Klaten</td>\n",
       "      <td>True</td>\n",
       "      <td>True</td>\n",
       "    </tr>\n",
       "    <tr>\n",
       "      <th>1</th>\n",
       "      <td>7320840825</td>\n",
       "      <td>Sepatu Compass Velocity</td>\n",
       "      <td>Power Merchant Pro Badge</td>\n",
       "      <td>Fashion Pria</td>\n",
       "      <td>95</td>\n",
       "      <td>53</td>\n",
       "      <td>7900.0</td>\n",
       "      <td>1699000.0</td>\n",
       "      <td>798000.0</td>\n",
       "      <td>5.0</td>\n",
       "      <td>7098187</td>\n",
       "      <td>Tijoepass</td>\n",
       "      <td>Jakarta Selatan</td>\n",
       "      <td>False</td>\n",
       "      <td>True</td>\n",
       "    </tr>\n",
       "    <tr>\n",
       "      <th>2</th>\n",
       "      <td>1997117378</td>\n",
       "      <td>Sepatu Chef AP CHEF Hitam - Sepatu Dapur Anti ...</td>\n",
       "      <td>Power Merchant Pro Badge</td>\n",
       "      <td>Fashion Pria</td>\n",
       "      <td>387</td>\n",
       "      <td>0</td>\n",
       "      <td>2700.0</td>\n",
       "      <td>0.0</td>\n",
       "      <td>139800.0</td>\n",
       "      <td>4.9</td>\n",
       "      <td>533833</td>\n",
       "      <td>redshroom</td>\n",
       "      <td>Jakarta Barat</td>\n",
       "      <td>False</td>\n",
       "      <td>True</td>\n",
       "    </tr>\n",
       "    <tr>\n",
       "      <th>3</th>\n",
       "      <td>2005697120</td>\n",
       "      <td>Sepatu Boots AP MEDIC Putih - Sepatu APD Medis</td>\n",
       "      <td>Power Merchant Pro Badge</td>\n",
       "      <td>Fashion Pria</td>\n",
       "      <td>42</td>\n",
       "      <td>0</td>\n",
       "      <td>4300.0</td>\n",
       "      <td>0.0</td>\n",
       "      <td>215000.0</td>\n",
       "      <td>4.9</td>\n",
       "      <td>533833</td>\n",
       "      <td>redshroom</td>\n",
       "      <td>Jakarta Barat</td>\n",
       "      <td>False</td>\n",
       "      <td>True</td>\n",
       "    </tr>\n",
       "    <tr>\n",
       "      <th>4</th>\n",
       "      <td>7033293128</td>\n",
       "      <td>SEPATU SNEAKERS ORTUSEIGHT 100% ORIGINAL HARVA...</td>\n",
       "      <td>Official Store</td>\n",
       "      <td>Fashion Pria</td>\n",
       "      <td>165</td>\n",
       "      <td>15</td>\n",
       "      <td>11100.0</td>\n",
       "      <td>329000.0</td>\n",
       "      <td>279650.0</td>\n",
       "      <td>4.9</td>\n",
       "      <td>4232765</td>\n",
       "      <td>RANK Sports</td>\n",
       "      <td>Serang</td>\n",
       "      <td>True</td>\n",
       "      <td>True</td>\n",
       "    </tr>\n",
       "  </tbody>\n",
       "</table>\n",
       "</div>"
      ],
      "text/plain": [
       "            id                                               name  \\\n",
       "0  11718663582  Aerostreet 37-44 Brooklyn Putih Putih Abu Muda...   \n",
       "1   7320840825                            Sepatu Compass Velocity   \n",
       "2   1997117378  Sepatu Chef AP CHEF Hitam - Sepatu Dapur Anti ...   \n",
       "3   2005697120     Sepatu Boots AP MEDIC Putih - Sepatu APD Medis   \n",
       "4   7033293128  SEPATU SNEAKERS ORTUSEIGHT 100% ORIGINAL HARVA...   \n",
       "\n",
       "                     badges  categoryName  countReview  discountPercentage  \\\n",
       "0            Official Store  Fashion Pria          191                  50   \n",
       "1  Power Merchant Pro Badge  Fashion Pria           95                  53   \n",
       "2  Power Merchant Pro Badge  Fashion Pria          387                   0   \n",
       "3  Power Merchant Pro Badge  Fashion Pria           42                   0   \n",
       "4            Official Store  Fashion Pria          165                  15   \n",
       "\n",
       "      sold  originalPrice     price  ratingAverage  shopShopId     shopName  \\\n",
       "0   5000.0       359800.0  179900.0            4.8     6673471   Aerostreet   \n",
       "1   7900.0      1699000.0  798000.0            5.0     7098187    Tijoepass   \n",
       "2   2700.0            0.0  139800.0            4.9      533833    redshroom   \n",
       "3   4300.0            0.0  215000.0            4.9      533833    redshroom   \n",
       "4  11100.0       329000.0  279650.0            4.9     4232765  RANK Sports   \n",
       "\n",
       "          shopCity  shopIsOfficial  shopIsPowerBadge  \n",
       "0      Kab. Klaten            True              True  \n",
       "1  Jakarta Selatan           False              True  \n",
       "2    Jakarta Barat           False              True  \n",
       "3    Jakarta Barat           False              True  \n",
       "4           Serang            True              True  "
      ]
     },
     "execution_count": 4,
     "metadata": {},
     "output_type": "execute_result"
    }
   ],
   "source": [
    "df.head()"
   ]
  },
  {
   "cell_type": "code",
   "execution_count": 5,
   "metadata": {},
   "outputs": [
    {
     "data": {
      "text/html": [
       "<div>\n",
       "<style scoped>\n",
       "    .dataframe tbody tr th:only-of-type {\n",
       "        vertical-align: middle;\n",
       "    }\n",
       "\n",
       "    .dataframe tbody tr th {\n",
       "        vertical-align: top;\n",
       "    }\n",
       "\n",
       "    .dataframe thead th {\n",
       "        text-align: right;\n",
       "    }\n",
       "</style>\n",
       "<table border=\"1\" class=\"dataframe\">\n",
       "  <thead>\n",
       "    <tr style=\"text-align: right;\">\n",
       "      <th></th>\n",
       "      <th>id</th>\n",
       "      <th>countReview</th>\n",
       "      <th>discountPercentage</th>\n",
       "      <th>sold</th>\n",
       "      <th>originalPrice</th>\n",
       "      <th>price</th>\n",
       "      <th>ratingAverage</th>\n",
       "      <th>shopShopId</th>\n",
       "    </tr>\n",
       "  </thead>\n",
       "  <tbody>\n",
       "    <tr>\n",
       "      <th>count</th>\n",
       "      <td>4.770000e+03</td>\n",
       "      <td>4770.000000</td>\n",
       "      <td>4770.000000</td>\n",
       "      <td>4770.000000</td>\n",
       "      <td>4.770000e+03</td>\n",
       "      <td>4.770000e+03</td>\n",
       "      <td>4770.000000</td>\n",
       "      <td>4.770000e+03</td>\n",
       "    </tr>\n",
       "    <tr>\n",
       "      <th>mean</th>\n",
       "      <td>7.275561e+09</td>\n",
       "      <td>77.572327</td>\n",
       "      <td>13.689099</td>\n",
       "      <td>19286.687631</td>\n",
       "      <td>2.134643e+05</td>\n",
       "      <td>3.749419e+05</td>\n",
       "      <td>3.686876</td>\n",
       "      <td>7.262517e+06</td>\n",
       "    </tr>\n",
       "    <tr>\n",
       "      <th>std</th>\n",
       "      <td>4.267359e+09</td>\n",
       "      <td>304.051747</td>\n",
       "      <td>23.546361</td>\n",
       "      <td>51796.624051</td>\n",
       "      <td>5.678486e+05</td>\n",
       "      <td>7.001490e+05</td>\n",
       "      <td>2.109150</td>\n",
       "      <td>5.061013e+06</td>\n",
       "    </tr>\n",
       "    <tr>\n",
       "      <th>min</th>\n",
       "      <td>1.928798e+07</td>\n",
       "      <td>0.000000</td>\n",
       "      <td>0.000000</td>\n",
       "      <td>0.000000</td>\n",
       "      <td>0.000000e+00</td>\n",
       "      <td>5.000000e+02</td>\n",
       "      <td>0.000000</td>\n",
       "      <td>2.412000e+03</td>\n",
       "    </tr>\n",
       "    <tr>\n",
       "      <th>25%</th>\n",
       "      <td>2.662548e+09</td>\n",
       "      <td>1.000000</td>\n",
       "      <td>0.000000</td>\n",
       "      <td>2100.000000</td>\n",
       "      <td>0.000000e+00</td>\n",
       "      <td>1.050000e+05</td>\n",
       "      <td>4.000000</td>\n",
       "      <td>2.530791e+06</td>\n",
       "    </tr>\n",
       "    <tr>\n",
       "      <th>50%</th>\n",
       "      <td>7.555987e+09</td>\n",
       "      <td>5.000000</td>\n",
       "      <td>0.000000</td>\n",
       "      <td>6400.000000</td>\n",
       "      <td>0.000000e+00</td>\n",
       "      <td>1.780000e+05</td>\n",
       "      <td>4.900000</td>\n",
       "      <td>6.673471e+06</td>\n",
       "    </tr>\n",
       "    <tr>\n",
       "      <th>75%</th>\n",
       "      <td>1.163588e+10</td>\n",
       "      <td>32.000000</td>\n",
       "      <td>20.000000</td>\n",
       "      <td>16575.000000</td>\n",
       "      <td>2.096250e+05</td>\n",
       "      <td>3.850000e+05</td>\n",
       "      <td>5.000000</td>\n",
       "      <td>1.155957e+07</td>\n",
       "    </tr>\n",
       "    <tr>\n",
       "      <th>max</th>\n",
       "      <td>1.297877e+10</td>\n",
       "      <td>8503.000000</td>\n",
       "      <td>99.000000</td>\n",
       "      <td>750000.000000</td>\n",
       "      <td>1.143000e+07</td>\n",
       "      <td>1.500000e+07</td>\n",
       "      <td>5.000000</td>\n",
       "      <td>1.719083e+07</td>\n",
       "    </tr>\n",
       "  </tbody>\n",
       "</table>\n",
       "</div>"
      ],
      "text/plain": [
       "                 id  countReview  discountPercentage           sold  \\\n",
       "count  4.770000e+03  4770.000000         4770.000000    4770.000000   \n",
       "mean   7.275561e+09    77.572327           13.689099   19286.687631   \n",
       "std    4.267359e+09   304.051747           23.546361   51796.624051   \n",
       "min    1.928798e+07     0.000000            0.000000       0.000000   \n",
       "25%    2.662548e+09     1.000000            0.000000    2100.000000   \n",
       "50%    7.555987e+09     5.000000            0.000000    6400.000000   \n",
       "75%    1.163588e+10    32.000000           20.000000   16575.000000   \n",
       "max    1.297877e+10  8503.000000           99.000000  750000.000000   \n",
       "\n",
       "       originalPrice         price  ratingAverage    shopShopId  \n",
       "count   4.770000e+03  4.770000e+03    4770.000000  4.770000e+03  \n",
       "mean    2.134643e+05  3.749419e+05       3.686876  7.262517e+06  \n",
       "std     5.678486e+05  7.001490e+05       2.109150  5.061013e+06  \n",
       "min     0.000000e+00  5.000000e+02       0.000000  2.412000e+03  \n",
       "25%     0.000000e+00  1.050000e+05       4.000000  2.530791e+06  \n",
       "50%     0.000000e+00  1.780000e+05       4.900000  6.673471e+06  \n",
       "75%     2.096250e+05  3.850000e+05       5.000000  1.155957e+07  \n",
       "max     1.143000e+07  1.500000e+07       5.000000  1.719083e+07  "
      ]
     },
     "execution_count": 5,
     "metadata": {},
     "output_type": "execute_result"
    }
   ],
   "source": [
    "df.describe()"
   ]
  },
  {
   "cell_type": "code",
   "execution_count": 6,
   "metadata": {},
   "outputs": [
    {
     "data": {
      "text/plain": [
       "(4770, 15)"
      ]
     },
     "execution_count": 6,
     "metadata": {},
     "output_type": "execute_result"
    }
   ],
   "source": [
    "df.shape"
   ]
  },
  {
   "cell_type": "code",
   "execution_count": 7,
   "metadata": {},
   "outputs": [
    {
     "data": {
      "text/plain": [
       "['id',\n",
       " 'name',\n",
       " 'badges',\n",
       " 'categoryName',\n",
       " 'countReview',\n",
       " 'discountPercentage',\n",
       " 'sold',\n",
       " 'originalPrice',\n",
       " 'price',\n",
       " 'ratingAverage',\n",
       " 'shopShopId',\n",
       " 'shopName',\n",
       " 'shopCity',\n",
       " 'shopIsOfficial',\n",
       " 'shopIsPowerBadge']"
      ]
     },
     "execution_count": 7,
     "metadata": {},
     "output_type": "execute_result"
    }
   ],
   "source": [
    "list(df.columns)"
   ]
  },
  {
   "cell_type": "code",
   "execution_count": 8,
   "metadata": {},
   "outputs": [],
   "source": [
    "# rename kolom . \n",
    "# df.rename(columns={'shop.shopId': 'shopShopId', 'shop.name': 'shopName', 'shop.city': 'shopCity' , 'shop.isOfficial': 'shopIsOfficial', 'shop.isPowerBadge': 'shopIsPowerBadge'}, inplace=True)"
   ]
  },
  {
   "cell_type": "code",
   "execution_count": 9,
   "metadata": {},
   "outputs": [],
   "source": [
    "# df.to_csv('data_penjualan_sepatu_tokopedia.csv', index=False)"
   ]
  },
  {
   "cell_type": "code",
   "execution_count": 10,
   "metadata": {},
   "outputs": [
    {
     "name": "stdout",
     "output_type": "stream",
     "text": [
      "Kategori Sepatu Terpopuler:\n",
      "categoryName\n",
      "Fashion Pria           1747\n",
      "Fashion Wanita         1255\n",
      "Fashion Anak & Bayi    1113\n",
      "Olahraga                653\n",
      "dtype: int64\n"
     ]
    }
   ],
   "source": [
    "# Hitung jumlah penjualan per kategori sepatu\n",
    "jumlah_penjualan_per_kategori = df.groupby(\"categoryName\").size()\n",
    "\n",
    "#  Urutkan kategori berdasarkan jumlah penjualan\n",
    "kategori_terpopuler = jumlah_penjualan_per_kategori.sort_values(ascending=False)\n",
    "# Tampilkan 5 kategori terpopuler\n",
    "print(\"Kategori Sepatu Terpopuler:\")\n",
    "print(kategori_terpopuler.head(4))"
   ]
  },
  {
   "cell_type": "code",
   "execution_count": 11,
   "metadata": {},
   "outputs": [],
   "source": [
    "# Hitung rata-rata penjualan sepatu dengan discount dan tanpa diskon\n",
    "rata_rata_penjualan_diskon = df[df['discountPercentage']> 0]['price'].mean()\n",
    "rata_rata_penjualan_tanpa_diskon = df[df['discountPercentage'] == 0]['price'].mean()"
   ]
  },
  {
   "cell_type": "code",
   "execution_count": 12,
   "metadata": {},
   "outputs": [],
   "source": [
    "# Hitung korelasi antara rating dan penjualan\n",
    "korelasi_rating_penjualan = df[\"ratingAverage\"].corr(df[\"sold\"])"
   ]
  },
  {
   "cell_type": "code",
   "execution_count": 13,
   "metadata": {},
   "outputs": [
    {
     "name": "stdout",
     "output_type": "stream",
     "text": [
      "Rata-rata Penjualan Sepatu dengan Diskon: Rp 335,369.72\n",
      "Rata-rata Penjualan Sepatu Tanpa Diskon: Rp 394,746.66\n",
      "Korelasi Rating dan Penjualan: 0.07750870916901591\n"
     ]
    }
   ],
   "source": [
    "# Tampilkan hasil analisis\n",
    "print(f\"Rata-rata Penjualan Sepatu dengan Diskon: Rp {rata_rata_penjualan_diskon:,.2f}\")\n",
    "print(f\"Rata-rata Penjualan Sepatu Tanpa Diskon: Rp {rata_rata_penjualan_tanpa_diskon:,.2f}\")\n",
    "print(\"Korelasi Rating dan Penjualan:\", korelasi_rating_penjualan)"
   ]
  },
  {
   "cell_type": "code",
   "execution_count": 14,
   "metadata": {},
   "outputs": [],
   "source": [
    "# !pip install statsmodelse"
   ]
  }
 ],
 "metadata": {
  "kernelspec": {
   "display_name": "Python 3",
   "language": "python",
   "name": "python3"
  },
  "language_info": {
   "codemirror_mode": {
    "name": "ipython",
    "version": 3
   },
   "file_extension": ".py",
   "mimetype": "text/x-python",
   "name": "python",
   "nbconvert_exporter": "python",
   "pygments_lexer": "ipython3",
   "version": "3.10.12"
  }
 },
 "nbformat": 4,
 "nbformat_minor": 2
}
